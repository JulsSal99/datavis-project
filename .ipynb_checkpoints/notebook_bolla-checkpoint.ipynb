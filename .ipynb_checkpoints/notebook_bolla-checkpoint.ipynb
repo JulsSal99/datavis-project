{
 "cells": [
  {
   "cell_type": "code",
   "execution_count": 1,
   "id": "1500c5f4",
   "metadata": {},
   "outputs": [],
   "source": [
    "import numpy as np\n",
    "import pandas as pd\n",
    "import matplotlib.pyplot as plt\n",
    "from matplotlib.lines import Line2D\n",
    "from matplotlib.text import Text\n",
    "import matplotlib.patches as mpatches\n",
    "import geopandas as gpd\n",
    "import mapclassify as mc\n",
    "from shapely.geometry import Polygon, Point\n",
    "\n",
    "data_dir = \"./dataset/\"\n",
    "img_dir = \"./img/\""
   ]
  },
  {
   "cell_type": "markdown",
   "id": "3fa39b1e",
   "metadata": {},
   "source": [
    "# Funzioni utili"
   ]
  },
  {
   "cell_type": "code",
   "execution_count": 2,
   "id": "f1f30097",
   "metadata": {},
   "outputs": [],
   "source": [
    "# Funzione che modifica i nomi delle colonne di \"da_modificare\" con i nomi delle corrispondenti colonne di \"base\"\n",
    "def make_consistent(base, da_modificare):\n",
    "    for i in range(min(base.columns.size, da_modificare.columns.size)):\n",
    "        # check if columns name are equal\n",
    "        if(base.columns[i] != da_modificare.columns[i]):\n",
    "            # rename column\n",
    "            da_modificare.rename(columns = {da_modificare.columns[i]:base.columns[i]}, inplace=True)\n",
    "\n",
    "# Funzione che verifica che due dataset abbiano lo stesso numero di colonne e con gli stessi nomi \n",
    "def check_same_shape(a, b):\n",
    "    size = min(a.columns.size, b.columns.size)\n",
    "    return np.all(a.columns[:size] == b.columns[:size])\n",
    "\n",
    "# restituisce una serie di sigle delle province della regione \n",
    "def get_province(df_province, regione):\n",
    "    return df_province[df_province.regione == regione].sigla\n",
    "\n",
    "# restituisce\n",
    "def get_scuole(province, df_scuole):\n",
    "    return df_scuole[df_scuole.SIGLAPROVINCIA.isin(province)]"
   ]
  },
  {
   "cell_type": "markdown",
   "id": "5541453e",
   "metadata": {},
   "source": [
    "# Import DataSet"
   ]
  },
  {
   "cell_type": "code",
   "execution_count": 3,
   "id": "74c8bb22",
   "metadata": {},
   "outputs": [
    {
     "name": "stdout",
     "output_type": "stream",
     "text": [
      "SCHEMA DATASET AMBIENTE Index(['ANNOSCOLASTICO', 'CODICESCUOLA', 'CODICEEDIFICIO',\n",
      "       'CONTESTOSENZADISTURBI', 'VICINANZADISCARICA',\n",
      "       'VICINANZAINDUSTRIEINQUINANTI', 'VICINANZAACQUEINQUINANTI',\n",
      "       'VICINANZAFONTIINQUINAMENTOATMOSFERICO',\n",
      "       'VICINANZAFONTIINQUINAMENTOACUSTICO',\n",
      "       'VICINANZASORGENTIRADIAZIONIELETTROMAGNETICHE', 'VICINANZACIMITERI',\n",
      "       'VICINANZAALTRIDISTURBI', 'ASSENZAPIAZZOLAADEGUATA', 'AREANONRECINTATA',\n",
      "       'PRESENZAGRANDETRAFFICO', 'PRESENZATRANSITOFERROVIARIO',\n",
      "       'PREESISTENZEINDUSTRIALIABBANDONATE', 'ZONAURBANADEGRADATA',\n",
      "       'VICINANZAINDUSTRIEARISCHIO', 'AREAALTREMOTIVAZIONI'],\n",
      "      dtype='object')\n",
      "\n",
      "\n",
      "\n",
      "\n",
      "SCHEMA DATASET RAGGIUNGIBILITÀ Index(['ANNOSCOLASTICO', 'CODICESCUOLA', 'CODICEEDIFICIO', 'SCUOLABUS',\n",
      "       'TRASPORTIPUBBLICIURBANI', 'TRASPORTIPUBBLICIINTERURBANI',\n",
      "       'TRASPORTIFERROVIARI', 'MEZZIPRIVATI', 'TRASPORTODISABILI'],\n",
      "      dtype='object')\n",
      "\n",
      "\n",
      "\n",
      "\n",
      "SCHEMA DATASET BARRIERE ARCHITETTONICHE Index(['ANNOSCOLASTICO', 'CODICESCUOLA', 'CODICEEDIFICIO',\n",
      "       'ACCORGIMENTISUPERAMENTOBARRIEREARCHITETTONICHE',\n",
      "       'ACCESSODAESTERNOCONRAMPE', 'SCALEANORMA', 'ASCENSORETRASPORTODISABILI',\n",
      "       'SERVOSCALAPIATTAFORMAELEVATRICE',\n",
      "       'SERVIZIIGIENICISPECIFICINORMADISABILI', 'PORTELARGHEZZAMINIMA',\n",
      "       'PERCORSIINTERNI', 'PERCORSIESTERNI'],\n",
      "      dtype='object')\n",
      "\n",
      "\n",
      "\n",
      "\n",
      "SCHEMA ELENCO SCUOLE Index(['ANNOSCOLASTICO', 'CODICESCUOLA', 'CODICEEDIFICIO', 'CODICECOMUNE',\n",
      "       'DESCRIZIONECOMUNE', 'SIGLAPROVINCIA', 'TIPOLOGIAINDIRIZZO',\n",
      "       'DENOMINAZIONEINDIRIZZO', 'NUMEROCIVICO', 'CAP'],\n",
      "      dtype='object')\n",
      "\n",
      "\n",
      "\n",
      "\n",
      "SCHEMA province Index(['provincia', 'regione', 'sigla'], dtype='object')\n",
      "         provincia        regione sigla\n",
      "0        Agrigento        Sicilia    AG\n",
      "1      Alessandria       Piemonte    AL\n",
      "2           Ancona         Marche    AN\n",
      "3            Aosta  Valle d'Aosta    AO\n",
      "4           Arezzo        Toscana    AR\n",
      "..             ...            ...   ...\n",
      "105       Vercelli       Piemonte    VC\n",
      "106         Verona         Veneto    VR\n",
      "107  Vibo Valentia       Calabria    VV\n",
      "108        Vicenza         Veneto    VI\n",
      "109        Viterbo          Lazio    VT\n",
      "\n",
      "[110 rows x 3 columns]\n",
      "['Sicilia' 'Piemonte' 'Marche' \"Valle d'Aosta\" 'Toscana' 'Campania'\n",
      " 'Puglia' 'Veneto' 'Lombardia' 'Emilia-Romagna' 'Trentino-Alto Adige'\n",
      " 'Sardegna' 'Molise' 'Calabria' 'Abruzzo' 'Lazio' 'Liguria'\n",
      " 'Friuli-Venezia Giulia' 'Basilicata' 'Umbria']\n"
     ]
    }
   ],
   "source": [
    "# ***************************** #\n",
    "# ********* ELENCO ************ # \n",
    "# ***************************** #\n",
    "\n",
    "elenco = pd.read_csv(data_dir + \"elenco_scuole_italia.csv\")\n",
    "\n",
    "# ***************************** #\n",
    "# ********* PROVINCE ********** # \n",
    "# ***************************** #\n",
    "\n",
    "\n",
    "province = pd.read_csv(data_dir + \"province.csv\", encoding='latin-1')\n",
    "regioni = province.regione.unique()\n",
    "\n",
    "# ***************************** #\n",
    "# ********** AMBIENTE ********* # \n",
    "# ***************************** #\n",
    "\n",
    "a_i_1718 = pd.read_csv(data_dir + \"ambiente_italia_1718.csv\")\n",
    "a_i_1819 = pd.read_csv(data_dir + \"ambiente_italia_1819.csv\")\n",
    "a_i_2021 = pd.read_csv(data_dir + \"ambiente_italia_2021.csv\")\n",
    "a_i_2122 = pd.read_csv(data_dir + \"ambiente_italia_2122.csv\")\n",
    "\n",
    "# MODIFICHE\n",
    "# drop last column in ambiente dataframes ( sembra poco rilevante )\n",
    "a_i_1718.drop(columns=['AREAALTREMOTIVAZIONI'], inplace=True)\n",
    "a_i_1819.drop(columns=['AREAALTREMOTIVAZIONI'])\n",
    "a_i_2021.drop(columns=['ALTRECRITICITASPECIFICHE'], inplace=True)\n",
    "a_i_2122.drop(columns=['ALTRECRITICITASPECIFICHE'], inplace=True)\n",
    "# drop column in position 12 ( non coincidono tra annate e sempra poco rilevante )\n",
    "a_i_1718.drop(columns=[a_i_1718.columns[12]], inplace=True)\n",
    "a_i_1819.drop(columns=[a_i_1819.columns[12]], inplace=True)\n",
    "a_i_2021.drop(columns=[a_i_2021.columns[12]], inplace=True)\n",
    "a_i_2122.drop(columns=[a_i_2122.columns[12]], inplace=True)\n",
    "\n",
    "# modifica nomi degli attributi \n",
    "make_consistent(a_i_2021, a_i_1819)\n",
    "make_consistent(a_i_2021, a_i_1718)\n",
    "\n",
    "# ***************************** #\n",
    "# ****** RAGGIUNGIBILITÀ ****** # \n",
    "# ***************************** #\n",
    "t_i_1516 = pd.read_csv(data_dir + \"trasporti_italia_1516.csv\")\n",
    "t_i_1718 = pd.read_csv(data_dir + \"trasporti_italia_1718.csv\")\n",
    "t_i_1819 = pd.read_csv(data_dir + \"trasporti_italia_1819.csv\")\n",
    "t_i_2021 = pd.read_csv(data_dir + \"trasporti_italia_2021.csv\")\n",
    "t_i_2122 = pd.read_csv(data_dir + \"trasporti_italia_2122.csv\")\n",
    "\n",
    "# MODIFICHE\n",
    "# drop last column ( \"ALTRO\", difficile da analizzare)\n",
    "t_i_1516.drop(columns=[t_i_1516.columns[t_i_1516.columns.size - 1]], inplace=True)\n",
    "t_i_1718.drop(columns=[t_i_1718.columns[t_i_1718.columns.size - 1]], inplace=True)\n",
    "t_i_1819.drop(columns=[t_i_1819.columns[t_i_1819.columns.size - 1]], inplace=True)\n",
    "t_i_2021.drop(columns=[t_i_2021.columns[t_i_2021.columns.size - 1]], inplace=True)\n",
    "t_i_2122.drop(columns=[t_i_2122.columns[t_i_2122.columns.size - 1]], inplace=True)\n",
    "# le annate 2121 e 2122 hanno in più una colonna alla fine relativa alla presenza di piste ciclabili\n",
    "\n",
    "# modifica nomi degli attributi \n",
    "make_consistent(t_i_2021, t_i_1516)\n",
    "make_consistent(t_i_2021, t_i_1718)\n",
    "make_consistent(t_i_2021, t_i_1819)\n",
    "\n",
    "# ***************************** #\n",
    "# * BARRIERE ARCHITETTONICHE ** # \n",
    "# ***************************** #\n",
    "ba_i_1718 = pd.read_csv(data_dir + \"barriere_architettoniche_italia_1718.csv\")\n",
    "ba_i_1819 = pd.read_csv(data_dir + \"barriere_architettoniche_italia_1819.csv\")\n",
    "ba_i_2021 = pd.read_csv(data_dir + \"barriere_architettoniche_italia_2021.csv\")\n",
    "ba_i_2122 = pd.read_csv(data_dir + \"barriere_architettoniche_italia_2122.csv\")\n",
    "\n",
    "# MODIFICHE\n",
    "# drop last column ( \"ALTRO\", difficile da analizzare)\n",
    "ba_i_1718.drop(columns=[ba_i_1718.columns[ba_i_1718.columns.size - 1]], inplace=True)\n",
    "ba_i_1819.drop(columns=[ba_i_1819.columns[ba_i_1819.columns.size - 1]], inplace=True)\n",
    "ba_i_2021.drop(columns=[ba_i_2021.columns[ba_i_2021.columns.size - 1]], inplace=True)\n",
    "ba_i_2122.drop(columns=[ba_i_2122.columns[ba_i_2122.columns.size - 1]], inplace=True)\n",
    "\n",
    "# modifica nomi degli attributi \n",
    "make_consistent(ba_i_2021, ba_i_1819)\n",
    "make_consistent(ba_i_2021, ba_i_1718)\n",
    "\n",
    "print('SCHEMA DATASET AMBIENTE', a_i_1819.columns)\n",
    "print(\"\\n\\n\\n\")\n",
    "print('SCHEMA DATASET RAGGIUNGIBILITÀ', t_i_1819.columns)\n",
    "print(\"\\n\\n\\n\")\n",
    "print('SCHEMA DATASET BARRIERE ARCHITETTONICHE', ba_i_1819.columns)\n",
    "print(\"\\n\\n\\n\")\n",
    "print('SCHEMA ELENCO SCUOLE', elenco.columns)\n",
    "print(\"\\n\\n\\n\")\n",
    "print('SCHEMA province', province.columns)\n",
    "\n",
    "print(province)\n",
    "print(regioni)"
   ]
  },
  {
   "cell_type": "markdown",
   "id": "82f3614b",
   "metadata": {},
   "source": [
    "### Elenchi tipo scuole"
   ]
  },
  {
   "cell_type": "code",
   "execution_count": 4,
   "id": "6dde4565",
   "metadata": {},
   "outputs": [
    {
     "data": {
      "text/plain": [
       "array(['Sicilia', 'Piemonte', 'Marche', \"Valle d'Aosta\", 'Toscana',\n",
       "       'Campania', 'Puglia', 'Veneto', 'Lombardia', 'Emilia-Romagna',\n",
       "       'Trentino-Alto Adige', 'Sardegna', 'Molise', 'Calabria', 'Abruzzo',\n",
       "       'Lazio', 'Liguria', 'Friuli-Venezia Giulia', 'Basilicata',\n",
       "       'Umbria'], dtype=object)"
      ]
     },
     "execution_count": 4,
     "metadata": {},
     "output_type": "execute_result"
    }
   ],
   "source": [
    "licei = ['PC', 'PL', 'PS', 'SL']\n",
    "istituti_tecnici = ['TA', 'TB', 'TD', 'TE', 'TF', 'TH', 'TL', 'TN']\n",
    "istituti_professionali = ['RA', 'RB', 'RC', 'RE', 'RF', 'RH', 'RI', 'RM', 'RN', 'RS', 'RT', 'RV']\n",
    "# area_artistica = ['SD', 'SM', 'SN', 'SR', 'ST']\n",
    "media = ['MM']\n",
    "elementari = ['EE']\n",
    "istituto_comprensivo = ['IC']\n",
    "superiori = ['IS']\n",
    "# scuola_materna = ['AA']  togliamo\n",
    "# magistrali = ['PM', 'PQ'] togliamo\n",
    "# altri = ['VC', 'VE'] togliamo\n",
    "\n",
    "codici_elementari = elementari + istituto_comprensivo\n",
    "codici_medie = media + istituto_comprensivo\n",
    "codici_superiori = superiori + istituti_professionali + istituti_tecnici + licei\n",
    "\n",
    "regioni"
   ]
  },
  {
   "cell_type": "code",
   "execution_count": 5,
   "id": "9bbb7bd5",
   "metadata": {},
   "outputs": [
    {
     "name": "stdout",
     "output_type": "stream",
     "text": [
      "12     BG\n",
      "16     BS\n",
      "26     CO\n",
      "28     CR\n",
      "47     LC\n",
      "49     LO\n",
      "52     MN\n",
      "56     MI\n",
      "58     MB\n",
      "67     PV\n",
      "91     SO\n",
      "102    VA\n",
      "Name: sigla, dtype: object\n",
      "128      False\n",
      "275       True\n",
      "381      False\n",
      "837       True\n",
      "896       True\n",
      "         ...  \n",
      "60628     True\n",
      "60641     True\n",
      "60658    False\n",
      "60710     True\n",
      "60969     True\n",
      "Name: SERVIZIIGIENICISPECIFICINORMADISABILI, Length: 384, dtype: bool\n"
     ]
    },
    {
     "data": {
      "text/plain": [
       "78.125"
      ]
     },
     "execution_count": 5,
     "metadata": {},
     "output_type": "execute_result"
    }
   ],
   "source": [
    "province_lombardia = get_province(province, 'Lombardia')\n",
    "print(province_lombardia)\n",
    "cs_lombardia = get_scuole(province_lombardia, elenco).CODICESCUOLA\n",
    "cs_lombardia = cs_lombardia.to_numpy()\n",
    "\n",
    "\n",
    "licei_lombardia = [x for x in cs_lombardia if x[2:4] in licei]\n",
    "elementari = [x for x in cs_lombardia if x[2:4] in elementari]\n",
    "\n",
    "servizi_igienici = ba_i_2122[ba_i_2122.CODICESCUOLA.isin(licei_lombardia)].SERVIZIIGIENICISPECIFICINORMADISABILI == 'SI'\n",
    "print(servizi_igienici)\n",
    "servizi_igienici[servizi_igienici].size / len(licei_lombardia) * 100"
   ]
  },
  {
   "cell_type": "markdown",
   "id": "47aeb492",
   "metadata": {},
   "source": [
    "# GeoPandas"
   ]
  },
  {
   "cell_type": "code",
   "execution_count": 6,
   "id": "f9f8ca38",
   "metadata": {},
   "outputs": [],
   "source": [
    "world = gpd.read_file(gpd.datasets.get_path('naturalearth_lowres'))"
   ]
  },
  {
   "cell_type": "code",
   "execution_count": 7,
   "id": "d45ca0fc",
   "metadata": {
    "scrolled": true
   },
   "outputs": [
    {
     "name": "stdout",
     "output_type": "stream",
     "text": [
      "    COD_RIP  COD_REG                DEN_REG    Shape_Leng    Shape_Area  \\\n",
      "0         1        1               Piemonte  1.236800e+06  2.539388e+10   \n",
      "1         1        2          Valle d'Aosta  3.109681e+05  3.258838e+09   \n",
      "2         1        3              Lombardia  1.410223e+06  2.386232e+10   \n",
      "3         2        4    Trentino-Alto Adige  8.008937e+05  1.360755e+10   \n",
      "4         2        5                 Veneto  1.054587e+06  1.834355e+10   \n",
      "5         2        6  Friuli Venezia Giulia  6.708207e+05  7.934116e+09   \n",
      "6         1        7                Liguria  8.196598e+05  5.414542e+09   \n",
      "7         2        8         Emilia-Romagna  1.180343e+06  2.249987e+10   \n",
      "8         3        9                Toscana  1.306243e+06  2.298404e+10   \n",
      "9         3       10                 Umbria  6.197684e+05  8.464380e+09   \n",
      "10        3       11                 Marche  6.170373e+05  9.343412e+09   \n",
      "11        3       12                  Lazio  1.054411e+06  1.722682e+10   \n",
      "12        4       13                Abruzzo  6.174271e+05  1.082903e+10   \n",
      "13        4       14                 Molise  4.338181e+05  4.461183e+09   \n",
      "14        4       15               Campania  8.881667e+05  1.366325e+10   \n",
      "15        4       16                 Puglia  1.176879e+06  1.953567e+10   \n",
      "16        4       17             Basilicata  6.142055e+05  1.007274e+10   \n",
      "17        4       18               Calabria  8.378109e+05  1.521607e+10   \n",
      "18        5       19                Sicilia  1.337060e+06  2.582375e+10   \n",
      "19        5       20               Sardegna  1.438479e+06  2.409403e+10   \n",
      "\n",
      "                                             geometry  \n",
      "0   POLYGON ((457749.464 5145501.795, 458662.395 5...  \n",
      "1   POLYGON ((390652.644 5091766.171, 390748.643 5...  \n",
      "2   MULTIPOLYGON (((485536.366 4985444.605, 485366...  \n",
      "3   POLYGON ((743267.749 5219765.793, 743387.812 5...  \n",
      "4   POLYGON ((768123.960 5175397.497, 768135.210 5...  \n",
      "5   MULTIPOLYGON (((872344.457 5061894.048, 872344...  \n",
      "6   MULTIPOLYGON (((568226.691 4874823.573, 568219...  \n",
      "7   MULTIPOLYGON (((618343.929 4893985.661, 618335...  \n",
      "8   MULTIPOLYGON (((674426.642 4680710.364, 674563...  \n",
      "9   MULTIPOLYGON (((776982.140 4832209.918, 776910...  \n",
      "10  POLYGON ((802303.985 4874996.456, 802366.734 4...  \n",
      "11  MULTIPOLYGON (((875952.995 4524692.050, 875769...  \n",
      "12  MULTIPOLYGON (((930273.425 4714737.743, 930147...  \n",
      "13  POLYGON ((984002.800 4670714.415, 985067.040 4...  \n",
      "14  MULTIPOLYGON (((1037313.692 4449410.367, 10373...  \n",
      "15  MULTIPOLYGON (((1280636.111 4454459.746, 12806...  \n",
      "16  MULTIPOLYGON (((1073707.061 4445700.106, 10737...  \n",
      "17  MULTIPOLYGON (((1083358.846 4416348.741, 10833...  \n",
      "18  MULTIPOLYGON (((822886.611 3935355.889, 822871...  \n",
      "19  MULTIPOLYGON (((448813.650 4301762.751, 448823...  \n"
     ]
    },
    {
     "data": {
      "image/png": "[encoded data removed]",
      "text/plain": [
       "<Figure size 800x800 with 1 Axes>"
      ]
     },
     "metadata": {},
     "output_type": "display_data"
    }
   ],
   "source": [
    "regioni = gpd.read_file(filename=(data_dir + 'regioni_shape/regioni.shp'))\n",
    "print(regioni)\n",
    "\n",
    "def percentuale_servizi_igienici_disabili(regione):\n",
    "    prov = province[province.regione == regione].sigla\n",
    "    scuole = elenco[elenco.SIGLAPROVINCIA.isin(prov)].CODICESCUOLA\n",
    "    if(len(scuole) == 0): return 0\n",
    "    servizi_igienici = ba_i_2122[ba_i_2122.CODICESCUOLA.isin(scuole)].SERVIZIIGIENICISPECIFICINORMADISABILI\n",
    "    servizi_igienici = servizi_igienici == 'SI'\n",
    "    return servizi_igienici[servizi_igienici].size / len(scuole) * 100\n",
    "\n",
    "#regioni['SERVIZI_IGIENICI'] = percentuale_servizi_igienici_disabili('Lombardia')\n",
    "\n",
    "regioni['SERVIZI_IGIENICI'] = regioni.DEN_REG.apply(lambda x: percentuale_servizi_igienici_disabili(x))\n",
    "\n",
    "#regioni.loc[regioni.SERVIZI_IGIENICI == 0, \"SERVIZI_IGIENICI\"] = np.nan\n",
    "nodata = regioni[regioni.SERVIZI_IGIENICI == 0]\n",
    "regioni.drop(regioni[regioni.SERVIZI_IGIENICI == 0].index, inplace=True)\n",
    "\n",
    "# set subplot and get figure and axis\n",
    "fig, ax = plt.subplots(1, figsize=(8, 8))\n",
    "plt.title('Servizi igienici per disabili')\n",
    "ax.set_axis_off()\n",
    "\n",
    "cmap = plt.cm.coolwarm\n",
    "\n",
    "bins = mc.Quantiles(regioni.SERVIZI_IGIENICI, k=10).bins\n",
    "\n",
    "regioni.plot(column='SERVIZI_IGIENICI', cmap=cmap, ax=ax, \n",
    "             edgecolor='black', linewidth=1, \n",
    "             scheme=\"User_Defined\", \n",
    "             classification_kwds=dict(bins=bins),\n",
    "             legend=True, legend_kwds={'title': \"legend\"}\n",
    ")\n",
    "\n",
    "sm = plt.cm.ScalarMappable(cmap=cmap, norm=plt.Normalize(vmin=0, vmax=100))\n",
    "\n",
    "linspace = np.linspace(0, 100, 10)\n",
    "min = regioni.SERVIZI_IGIENICI.min()\n",
    "max = regioni.SERVIZI_IGIENICI.max()\n",
    "patches = []\n",
    "for i in range(10):\n",
    "    previous = min if i == 0 else bins[i - 1]\n",
    "    patches.append(\n",
    "        mpatches.Patch(\n",
    "            color=sm.to_rgba(linspace[i]), \n",
    "            label=(\n",
    "                str(round(previous)) + ' - ' + str(round(bins[i])) + \" %\"\n",
    "            )\n",
    "        )\n",
    "    )\n",
    "\n",
    "patches.append(mpatches.Patch(color='none'))\n",
    "patches.append(mpatches.Patch(color='gray', label='no data'))\n",
    "ax.legend(handles=patches, loc=\"best\", prop={'size':9})\n",
    "      \n",
    "nodata.plot(color='gray', ax=ax, edgecolor='black', linewidth=1)\n",
    "\n",
    "\n",
    "plt.savefig(img_dir + 'cartina_servizi_igienici.png')"
   ]
  },
  {
   "cell_type": "markdown",
   "id": "cb9b433b",
   "metadata": {},
   "source": [
    "# Le scuole nella città \n",
    "### Introduzione\n",
    "\n",
    "La ricerca ha l'obiettivo di analizzare le scuole dal punto di vista dell'inserimento nelle città; ovvero come essere dialogano con l'infrastruttura di trasporto e con l'ambiente circostante.\n",
    "Le analisi si articolano attraverso i seguenti temi:\n",
    "- la raggiungibilità delle scuole mediante i mezzi di trasporto pubblici disponibili nella città. \n",
    "- l'ambiente in cui si trova la scuola, ovvero la vicinanza della scuola a fonti inquinanti di vario tipo, cimiteri, discariche, ecc.;\n",
    "questo tema può anche diventare occasione di discutere la qualità e la distribuzione degli agenti inquinanti da un punto di vista pratico, ovvero legato ai luoghi che frequentiamo quotidianamente, piuttosto che da un punto di vista puramente scientifico.\n",
    "- il superamento delle barriere architettoniche, ovvero la presenza di accorgimenti strutturali che consentono anche a persone con disabilità di fruire in modo completo dell'edificio e dei suoi servizi;\n",
    "quest'ultimo punto consente di completare il tema della raggiungibilità.\n",
    "\n",
    "La ricerca porterà le diverse regioni e provincie italiane a confronto, con lo scopo di evidenziare le zone di maggior criticità; queste saranno analizzate in modo approfondito, per identificare nel dettaglio le problematiche e come esse si sono evolute nel tempo.\n",
    "\n",
    "I dati sono forniti dal ministero dell'istruzione alla seguente pagina: https://dati.istruzione.it/opendata/opendata/catalogo/elements1/?area=Edilizia%20Scolastica\n"
   ]
  },
  {
   "cell_type": "markdown",
   "id": "0392fd1e",
   "metadata": {},
   "source": [
    "## Raggiungibilità\n",
    "\n",
    "- scuolabus\n",
    "- urbani\n",
    "- interurbani\n",
    "- ferroviari\n",
    "\n",
    "\n",
    "INTRODUZIONE:\n",
    "- 1: Semplice line-chart in cui descriviamo l'andamento della percentuale di scuole raggiungibili per ogni tipo di mezzo pubblico; in questo modo per ogni anno vediamo in percentuale quante scuole sono raggiungibili con un certo mezzo, e vediamo nel tempo se questa percentuale è cambiata o meno; questo grafico ci permette di comprendere quali sono i mezzi presumibilmente più utilizzati per raggiungere le scuole.\n",
    "- 2: Una cartina epr ogni mezzo, in cui per ogni regione vediamo la percentuale di scuole raggiungibili con quel mezzo; in questo modo possiamo capire come sono distribuiti i mezzi nelle regioni, se si tratta quindi di mezzi utilizzati in modo diffuso in tutta italia o se si concentrano in alcune regioni; la scala dei colori dovrebbe rimanere la stessa per tutte le cartine in modo da mantenere consistenza tra i valori.\n",
    "\n",
    "barchart tipo mezzo o tipo scuola \n",
    "Probabilmente da queste due prime cartine non ricaveremo granché, ma credo abbia senso per farsi un idea generale\n",
    "\n",
    "\n",
    "SITUAZIONE GENERALE:\n",
    "- 3: si potrebbero fare delle cartine \"riassuntive\" che fotografano la situazione generale delle regioni: per ogni regione calcoliamo la percentuale di sucole raggiungibili con almeno un mezzo; potremmo fare una cartina per ogni \"numero di mezzi minimi\", quindi la cartina delle scuole raggiungibili da un mezzo, quella delle scuole raggiungibili da almeno 2 mezzi e così via. Queste cartine riassuntive dovrebbero consentirci di identificare la regione peggiore e quindi prenderla come caso critico da analizzare in modo più specifico.\n",
    "Come cartina riassuntiva si potrebbe anche usare, anzichè la percentuale di scuole, il numero di \"collegamenti\", ovvero se una scuola è raggiunta da 3 mezzi allora dà 3 collegamenti, e calcoliamo la percentuale contando che ogni scula potrebbe avere massimo tot collegamenti; in questo modo potremmo fare un'unica cartina, anche se forse la cartina delle scuole raggiunte da almeno un mezzo potrebbe avere più senso, perché credo sia importante che ci sia almeno un mezzo, piuttosto che se ci sono tanti mezzi per raggiungere una scuola\n",
    "\n",
    "\n",
    "REGIONE CRITICA:\n",
    "- 4: line chart in cui vediamo nel tempo se è cambiata la percentuale di scuole raggiunte da almeno un mezzo\n",
    "- 5: cartina in cui vediamo come la percentuale è distribuita nelle province; se c'è una provincia particolarmente critica potremmo andare a vedere la distribuzione comunale."
   ]
  },
  {
   "cell_type": "code",
   "execution_count": null,
   "id": "31a03ed4",
   "metadata": {},
   "outputs": [],
   "source": [
    "- "
   ]
  },
  {
   "cell_type": "markdown",
   "id": "a1d98371",
   "metadata": {},
   "source": [
    "### Almeno un mezzo"
   ]
  },
  {
   "cell_type": "code",
   "execution_count": 8,
   "id": "04a89c2f",
   "metadata": {},
   "outputs": [],
   "source": [
    "codici_scuola = elenco.CODICESCUOLA.to_numpy()\n",
    "\n",
    "codici_scuola_elementari = [x for x in codici_scuola if x[2:4] in codici_elementari]\n",
    "codici_scuola_medie = [x for x in codici_scuola if x[2:4] in codici_medie]\n",
    "codici_scuola_superiori = [x for x in codici_scuola if x[2:4] in codici_superiori]\n",
    "\n",
    "scuole_1mezzo = t_i_2122[(t_i_2122.SCUOLABUS == 'SI') | (t_i_2122.TRASPORTIPUBBLICIURBANI == 'SI') | (t_i_2122.TRASPORTIPUBBLICIINTERURBANI == 'SI') | (t_i_2122.TRASPORTIFERROVIARI == 'SI')]\n",
    "\n",
    "codici_scuola_1mezzo = scuole_1mezzo.CODICESCUOLA.to_numpy()\n",
    "\n",
    "elementari_1mezzo = [x for x in codici_scuola_elementari if x in codici_scuola_1mezzo]\n",
    "medie_1mezzo = [x for x in codici_scuola_medie if x in codici_scuola_1mezzo]\n",
    "superiori_1mezzo = [x for x in codici_scuola_superiori if x in codici_scuola_1mezzo]"
   ]
  },
  {
   "cell_type": "code",
   "execution_count": 23,
   "id": "e083e4ec",
   "metadata": {},
   "outputs": [
    {
     "name": "stdout",
     "output_type": "stream",
     "text": [
      "38.19849874895746\n",
      "25.24816431993982\n",
      "19.21862990400497\n"
     ]
    }
   ],
   "source": [
    "print(len(codici_scuola_elementari) / len(codici_scuola) * 100)\n",
    "print(len(codici_scuola_medie) / len(codici_scuola) * 100)\n",
    "print(len(codici_scuola_superiori) / len(codici_scuola) * 100)"
   ]
  },
  {
   "cell_type": "code",
   "execution_count": 29,
   "id": "a713e23d",
   "metadata": {},
   "outputs": [
    {
     "name": "stdout",
     "output_type": "stream",
     "text": [
      "92.54645089476838\n",
      "92.60314787227152\n",
      "91.78012253233491\n",
      "89.52394969664262\n"
     ]
    }
   ],
   "source": [
    "print(len(elementari_1mezzo) / len(codici_scuola_elementari) * 100)\n",
    "print(len(medie_1mezzo) / len(codici_scuola_medie) * 100)\n",
    "print(len(superiori_1mezzo) / len(codici_scuola_superiori) * 100)\n",
    "\n",
    "print(len(codici_scuola_1mezzo) / len(codici_scuola) * 100)"
   ]
  },
  {
   "cell_type": "markdown",
   "id": "8c8f9cb6",
   "metadata": {},
   "source": [
    "### Scuolabus"
   ]
  },
  {
   "cell_type": "code",
   "execution_count": 9,
   "id": "307c1458",
   "metadata": {},
   "outputs": [],
   "source": [
    "scuole_scuolabus = t_i_2122[t_i_2122.SCUOLABUS == 'SI']\n",
    "codici_scuola_scuolabus = scuole_scuolabus.CODICESCUOLA.to_numpy()\n",
    "\n",
    "elementari_scuolabus = [x for x in codici_scuola_elementari if x in codici_scuola_scuolabus]\n",
    "medie_scuolabus = [x for x in codici_scuola_medie if x in codici_scuola_scuolabus]\n",
    "superiori_scuolabus = [x for x in codici_scuola_superiori if x in codici_scuola_scuolabus]\n"
   ]
  },
  {
   "cell_type": "code",
   "execution_count": 20,
   "id": "77d0d172",
   "metadata": {
    "scrolled": true
   },
   "outputs": [
    {
     "name": "stdout",
     "output_type": "stream",
     "text": [
      "80.92730541998459\n",
      "80.76300278515448\n",
      "37.576582709326075\n",
      "68.39032527105921\n"
     ]
    }
   ],
   "source": [
    "print(len(elementari_scuolabus) / len(codici_scuola_elementari) * 100)\n",
    "print(len(medie_scuolabus) / len(codici_scuola_medie) * 100)\n",
    "print(len(superiori_scuolabus) / len(codici_scuola_superiori) * 100)\n",
    "\n",
    "print(len(codici_scuola_scuolabus) / len(codici_scuola) * 100)"
   ]
  },
  {
   "cell_type": "markdown",
   "id": "a7fd49d5",
   "metadata": {},
   "source": [
    "### Trasporti urbani"
   ]
  },
  {
   "cell_type": "code",
   "execution_count": 24,
   "id": "ec2e9bf9",
   "metadata": {},
   "outputs": [],
   "source": [
    "scuole_urbano = t_i_2122[t_i_2122.TRASPORTIPUBBLICIURBANI == 'SI']\n",
    "codici_scuola_urbano = scuole_urbano.CODICESCUOLA.to_numpy()\n",
    "\n",
    "elementari_urbano = [x for x in codici_scuola_elementari if x in codici_scuola_urbano]\n",
    "medie_urbano = [x for x in codici_scuola_medie if x in codici_scuola_urbano]\n",
    "superiori_urbano = [x for x in codici_scuola_superiori if x in codici_scuola_urbano]"
   ]
  },
  {
   "cell_type": "code",
   "execution_count": 25,
   "id": "2515bc1b",
   "metadata": {
    "scrolled": true
   },
   "outputs": [
    {
     "name": "stdout",
     "output_type": "stream",
     "text": [
      "58.331192739104374\n",
      "60.06218019301768\n",
      "78.88019060585432\n",
      "57.9257224157386\n"
     ]
    }
   ],
   "source": [
    "print(len(elementari_urbano) / len(codici_scuola_elementari) * 100)\n",
    "print(len(medie_urbano) / len(codici_scuola_medie) * 100)\n",
    "print(len(superiori_urbano) / len(codici_scuola_superiori) * 100)\n",
    "\n",
    "print(len(codici_scuola_urbano) / len(codici_scuola) * 100)"
   ]
  },
  {
   "cell_type": "markdown",
   "id": "bf97c444",
   "metadata": {},
   "source": [
    "### Interurbani"
   ]
  },
  {
   "cell_type": "code",
   "execution_count": 26,
   "id": "8084bbc2",
   "metadata": {},
   "outputs": [],
   "source": [
    "scuole_interurbano = t_i_2122[t_i_2122.TRASPORTIPUBBLICIINTERURBANI == 'SI']\n",
    "codici_scuola_interurbano = scuole_interurbano.CODICESCUOLA.to_numpy()\n",
    "\n",
    "elementari_interurbano = [x for x in codici_scuola_elementari if x in codici_scuola_interurbano]\n",
    "medie_interurbano = [x for x in codici_scuola_medie if x in codici_scuola_interurbano]\n",
    "superiori_interurbano = [x for x in codici_scuola_superiori if x in codici_scuola_interurbano]"
   ]
  },
  {
   "cell_type": "code",
   "execution_count": 27,
   "id": "345ee5a9",
   "metadata": {},
   "outputs": [
    {
     "name": "stdout",
     "output_type": "stream",
     "text": [
      "46.75914033735765\n",
      "51.46706392901095\n",
      "72.17494894486045\n",
      "47.01303373726471\n"
     ]
    }
   ],
   "source": [
    "print(len(elementari_interurbano) / len(codici_scuola_elementari) * 100)\n",
    "print(len(medie_interurbano) / len(codici_scuola_medie) * 100)\n",
    "print(len(superiori_interurbano) / len(codici_scuola_superiori) * 100)\n",
    "\n",
    "print(len(codici_scuola_interurbano) / len(codici_scuola) * 100)"
   ]
  },
  {
   "cell_type": "markdown",
   "id": "49605784",
   "metadata": {},
   "source": [
    "### Ferroviario"
   ]
  },
  {
   "cell_type": "code",
   "execution_count": 18,
   "id": "a2238f0f",
   "metadata": {},
   "outputs": [],
   "source": [
    "scuole_ferroviario = t_i_2122[t_i_2122.TRASPORTIFERROVIARI == 'SI']\n",
    "codici_scuola_ferroviario = scuole_ferroviario.CODICESCUOLA.to_numpy()\n",
    "\n",
    "elementari_ferroviario = [x for x in codici_scuola_elementari if x in codici_scuola_ferroviario]\n",
    "medie_ferroviario = [x for x in codici_scuola_medie if x in codici_scuola_ferroviario]\n",
    "superiori_ferroviario = [x for x in codici_scuola_superiori if x in codici_scuola_ferroviario]"
   ]
  },
  {
   "cell_type": "code",
   "execution_count": 30,
   "id": "905853a8",
   "metadata": {},
   "outputs": [
    {
     "name": "stdout",
     "output_type": "stream",
     "text": [
      "9.350115592088363\n",
      "11.645831983936784\n",
      "20.268890401633765\n",
      "9.787568071432077\n"
     ]
    }
   ],
   "source": [
    "print(len(elementari_ferroviario) / len(codici_scuola_elementari) * 100)\n",
    "print(len(medie_ferroviario) / len(codici_scuola_medie) * 100)\n",
    "print(len(superiori_ferroviario) / len(codici_scuola_superiori) * 100)\n",
    "\n",
    "print(len(codici_scuola_ferroviario) / len(codici_scuola) * 100)"
   ]
  },
  {
   "cell_type": "markdown",
   "id": "8a030cad",
   "metadata": {},
   "source": [
    "## Ambiente\n",
    "\n",
    "INTRODUZIONE:\n",
    "I seguenti punti sono rilevanti per determinare la vivibilità dell'ambiente in cui è inserita la scuola; oltre al tema della salute, legata principalmente agli agenti inquinanti, gli elementi di disturbo come traffico, transiti ferroviari e in generali fonti di inquinamento acustico possono essere determinanti per l'effettiva vivibilità dell'ambiente durante le lezioni e durante i momenti di svago.\n",
    "\n",
    "- vicinanza discarica\n",
    "- vicinanza industrie inquinanti\n",
    "- vicinanza acque inquinate\n",
    "- vicinanza fonti inquinamento atmosferico\n",
    "- vicinanza fonti di inquinamento acustico\n",
    "- vicinanza fonti di radiazioni elettro magnetiche\n",
    "- presenza grande traffico \n",
    "- presenza transito ferroviario\n",
    "- presenza industrie a rischio\n",
    "\n",
    "GRAFICI:\n",
    "- 1: istogramma in cui per ogni categoria si dicono le percentuali di scuole che sono vicini a quella cosa, in modo da individuare l'elemento negativo più presente vicino alle scuole (non ha senso andare a vedere l'andamento negli anni, perché credo siano cose che non cambiano in pochi anni; sarebbe sensato se avessimo i dati di 20 anni forse )\n",
    "- 2: cartina delle regioni in cui per ogni elemento inquinante mettiamo la percentuale di scuole, così da vedere per esempio in che zona dell'italia sono maggiormente presenti industrie inquinanti vicino alle scuole, in che zona d'italia sono maggiormente presenti altri tipi di fonti inquinanti ecc. -> in questo modo creiamo delle mappe di distribuzione degli agenti inquinanti, il che potrebbe essere molto interessante.\n",
    "- 3: cartina in cui per ogni regione vediamo la percentuale media di vicinanze, cioè per ogni scuola il numero di cose a cui è vicina, facciamo la media e quindi infine abbiamo per ogni regione un indice di qualità dell'ambiente ( da 0 a 11, dove 0 significa che le scuole sono mediamente vicine a 0 fonti inquinanti, e 11 significa che le scuole sono mediamente vicine a 11 fonti inquinanti diverse); da questa cartina possiamo scegliere quella peggiore e usarla come caso critico\n",
    "\n",
    "REGIONE CRITICA:\n",
    "- 4: possiamo fare una sorta di infografica in cui mettiamo insieme i dati ricavati dalle cartine precedenti, ovvero per la regione scelta la percentuale di scuole vicine ad una certa fonte di inquinamento, ecc., così da avere un quadro riassuntivo per quella regione.\n",
    "- 5: Potenzialmente possiamo fare un discorso provinciale, quindi fare la cartina della percentuale media delle vicinanze per vedere se la situazione varia al variare delle province; se notiamo delle differenze allora potremmo anche fare le cartine in cui vediamo per ogni agente inquinante come è distribuito nelle province, anche se così diventa lungo, potremmo farlo solo per alcuni, magari quelli la cui percentuale è maggiore (tipo sappiamo che per la regione A, una percentuale altissima di scuole è vicina ad un agente inquinante B, allora possiamo vedere la situazione a livello provinciale, e quindi vedere per ogni provincia la percentuale di scuole vicine all'agente inquinante B)"
   ]
  },
  {
   "cell_type": "markdown",
   "id": "6a841db6",
   "metadata": {},
   "source": [
    "## Barriere architettoniche\n",
    "\n",
    "Categorie:\n",
    "- Accorgimenti presenti in generale ( i dati successivi sono presenti solo se questa è a si )\n",
    "\n",
    "- accesso esterno con rampe\n",
    "- Ascensore per il trasporto disabili\n",
    "- Servoscala piattaforma elevatrice\n",
    "- servizi igienici per disabili\n",
    "\n",
    "\n",
    "GRAFICI:\n",
    "- barchart categorie servizi\n",
    "- 1: Linechart in cui per ogni servizi indichiamo la percentuale di scuole che lo offrono; così identifichiamo i servizi meno diffusi e quindi critici, e se queste percentuali sono cambiate nel tempo.\n",
    "- 2: cartina in cui per ogni regione calcoliamo la percentuale di scuole che in generale hanno accorgimenti \n",
    "- 3: potremmo fare una cartina per ogni servizio (magari non per tutti, per i principali, tipo accesso con rampe, servo scala o ascensore e servizi igienici) oppure magari una cartina in cui mettiamo la percentuale di scuole che hanno un set \"base\" (tipo rampe + ascensore o servoscala e servizi) di accorgimenti, e sulla base di quest'ultima scegliamo la regione critica\n",
    "\n",
    "- pie-chart\n",
    "\n",
    "REGIONE CRITICA:\n",
    "- 4: linechart in cui vediamo se la percentuale di scuole che presenta il set base di accorgimenti è variato nel tempo\n",
    "- 5: cartina a livello provinciale, per vedere se la carenza è localizzata o generale.\n",
    "\n",
    "\n",
    "Problematicità: come trattiamo i non definiti? li includiamo nel totale? io li includerei come no; è vero che bisognerebbe dare il beneficio del dubbio, ma volendo dichiarare quante scuole, secondo i dati, presentano questi servizi, il non definito mi pare più un no che un si; il motivo per cui è non definito è una problematica relativa alla raccolta dei dati.\n",
    "Quindi le percentuali le farei SI / SI + NO + NON DEFINITO\n",
    "Comunque durante la presentazione dovremmo far presente di questa cosa e giustificare la scelta fatta\n"
   ]
  }
 ],
 "metadata": {
  "kernelspec": {
   "display_name": "Python 3 (ipykernel)",
   "language": "python",
   "name": "python3"
  },
  "language_info": {
   "codemirror_mode": {
    "name": "ipython",
    "version": 3
   },
   "file_extension": ".py",
   "mimetype": "text/x-python",
   "name": "python",
   "nbconvert_exporter": "python",
   "pygments_lexer": "ipython3",
   "version": "3.8.8"
  }
 },
 "nbformat": 4,
 "nbformat_minor": 5
}
