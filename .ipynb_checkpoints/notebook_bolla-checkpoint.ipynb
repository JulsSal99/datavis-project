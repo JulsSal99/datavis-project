{
 "cells": [
  {
   "cell_type": "markdown",
   "id": "37304949",
   "metadata": {},
   "source": [
    "# Progetto Visualizzazione Scientifica - Accessibilità nelle scuole"
   ]
  },
  {
   "cell_type": "markdown",
   "id": "9e8c717d",
   "metadata": {},
   "source": [
    "### import librerie"
   ]
  },
  {
   "cell_type": "code",
   "execution_count": 1,
   "id": "1500c5f4",
   "metadata": {},
   "outputs": [],
   "source": [
    "import numpy as np\n",
    "import pandas as pd\n",
    "import matplotlib.pyplot as plt\n",
    "from matplotlib.lines import Line2D\n",
    "from matplotlib.text import Text\n",
    "import matplotlib.patches as mpatches\n",
    "import geopandas as gpd\n",
    "import mapclassify as mc\n",
    "from shapely.geometry import Polygon, Point\n",
    "\n",
    "data_dir = \"./dataset/\"\n",
    "img_dir = \"./img/\""
   ]
  },
  {
   "cell_type": "markdown",
   "id": "3fa39b1e",
   "metadata": {},
   "source": [
    "## Funzioni utili ( private )"
   ]
  },
  {
   "cell_type": "code",
   "execution_count": 2,
   "id": "f1f30097",
   "metadata": {},
   "outputs": [],
   "source": [
    "# Funzione che modifica i nomi delle colonne di \"da_modificare\" con i nomi delle corrispondenti colonne di \"base\"\n",
    "def make_consistent(base, da_modificare):\n",
    "    for i in range(min(base.columns.size, da_modificare.columns.size)):\n",
    "        # check if columns name are equal\n",
    "        if(base.columns[i] != da_modificare.columns[i]):\n",
    "            # rename column\n",
    "            da_modificare.rename(columns = {da_modificare.columns[i]:base.columns[i]}, inplace=True)\n",
    "\n",
    "# Funzione che verifica che due dataset abbiano lo stesso numero di colonne e con gli stessi nomi \n",
    "def check_same_shape(a, b):\n",
    "    size = min(a.columns.size, b.columns.size)\n",
    "    return np.all(a.columns[:size] == b.columns[:size])\n",
    "\n",
    "def get_province_by_region(regione, elenco_province):\n",
    "    return elenco_province[elenco_province.regione == regione].sigla.to_numpy()\n",
    "def get_scuole_by_province(province, elenco_scuole):\n",
    "    return elenco_scuole[elenco_scuole.SIGLAPROVINCIA.isin(province)]"
   ]
  },
  {
   "cell_type": "markdown",
   "id": "829880b0",
   "metadata": {},
   "source": [
    "## Funzioni utili ( public )"
   ]
  },
  {
   "cell_type": "code",
   "execution_count": 3,
   "id": "252db564",
   "metadata": {},
   "outputs": [],
   "source": [
    "def get_scuole_by_region(regione, elenco_scuole, elenco_province):\n",
    "    return get_scuole_by_province(get_province_by_region(regione, elenco_province), elenco_scuole)\n",
    "\n",
    "def cartina(get_dati_function, cmap, bins_size, regioni, title):\n",
    "    \n",
    "    # add data to italy dataset\n",
    "    regioni['DATA'] = regioni.DEN_REG.apply(lambda x: get_dati_function(x))\n",
    "    \n",
    "    # get no data regions\n",
    "    nodata = regioni[regioni.DATA == 0]\n",
    "    regioni = regioni.drop(regioni[regioni.DATA == 0].index)\n",
    "    \n",
    "    # set up cartina\n",
    "    fig, ax = plt.subplots(1, figsize=(8, 16))\n",
    "    ax.set_axis_off()\n",
    "    plt.title(title)\n",
    "    \n",
    "    # bins\n",
    "    #bins = mc.Quantiles(regioni.DATA, k=bins_size).bins\n",
    "    bins = np.linspace(regioni.DATA.min(), regioni.DATA.max(), bins_size)\n",
    "    \n",
    "    #plot\n",
    "    regioni.plot(column='DATA', cmap=cmap, ax=ax, \n",
    "             edgecolor='black', linewidth=1, \n",
    "             scheme=\"User_Defined\", \n",
    "             classification_kwds=dict(bins=bins),\n",
    "             legend=True, legend_kwds={'title': \"legend\"}\n",
    "    )\n",
    "    \n",
    "    sm = plt.cm.ScalarMappable(cmap=cmap, norm=plt.Normalize(vmin=0, vmax=100))\n",
    "    \n",
    "    linspace = np.linspace(0, 100, bins_size)\n",
    "    \n",
    "    min = regioni.DATA.min()\n",
    "    max = regioni.DATA.max()\n",
    "    patches = []\n",
    "    for i in range(bins_size):\n",
    "        previous = min if i == 0 else bins[i - 1]\n",
    "        patches.append(\n",
    "            mpatches.Patch(\n",
    "                color=sm.to_rgba(linspace[i]), \n",
    "                label=(\n",
    "                    str(round(previous)) + ' - ' + str(round(bins[i])) + \" %\"\n",
    "                )\n",
    "            )\n",
    "        )\n",
    "\n",
    "    patches.append(mpatches.Patch(color='none'))\n",
    "    patches.append(mpatches.Patch(color='gray', label='no data'))\n",
    "    ax.legend(handles=patches, loc=\"best\", prop={'size':9})\n",
    "\n",
    "    nodata.plot(color='gray', ax=ax, edgecolor='black', linewidth=1)\n",
    "    \n",
    "    \n",
    "def plot_bar_by_school_type(data):\n",
    "    plt.figure(figsize=(5, 5))\n",
    "    plt.ylim([0,100])\n",
    "    names = ['Scuole elementari', 'Scuole medie', 'Scuole superiori']\n",
    "    plt.bar(names, data, color='orange', width=0.5)"
   ]
  },
  {
   "cell_type": "markdown",
   "id": "5541453e",
   "metadata": {},
   "source": [
    "# Import DataSet"
   ]
  },
  {
   "cell_type": "code",
   "execution_count": 4,
   "id": "74c8bb22",
   "metadata": {},
   "outputs": [
    {
     "name": "stdout",
     "output_type": "stream",
     "text": [
      "SCHEMA DATASET AMBIENTE Index(['ANNOSCOLASTICO', 'CODICESCUOLA', 'CODICEEDIFICIO',\n",
      "       'CONTESTOSENZADISTURBI', 'VICINANZADISCARICA',\n",
      "       'VICINANZAINDUSTRIEINQUINANTI', 'VICINANZAACQUEINQUINANTI',\n",
      "       'VICINANZAFONTIINQUINAMENTOATMOSFERICO',\n",
      "       'VICINANZAFONTIINQUINAMENTOACUSTICO',\n",
      "       'VICINANZASORGENTIRADIAZIONIELETTROMAGNETICHE', 'VICINANZACIMITERI',\n",
      "       'VICINANZAALTRIDISTURBI', 'ASSENZAPIAZZOLAADEGUATA', 'AREANONRECINTATA',\n",
      "       'PRESENZAGRANDETRAFFICO', 'PRESENZATRANSITOFERROVIARIO',\n",
      "       'PREESISTENZEINDUSTRIALIABBANDONATE', 'ZONAURBANADEGRADATA',\n",
      "       'VICINANZAINDUSTRIEARISCHIO', 'AREAALTREMOTIVAZIONI'],\n",
      "      dtype='object')\n",
      "\n",
      "\n",
      "\n",
      "\n",
      "SCHEMA DATASET RAGGIUNGIBILITÀ Index(['ANNOSCOLASTICO', 'CODICESCUOLA', 'CODICEEDIFICIO', 'SCUOLABUS',\n",
      "       'TRASPORTIPUBBLICIURBANI', 'TRASPORTIPUBBLICIINTERURBANI',\n",
      "       'TRASPORTIFERROVIARI', 'MEZZIPRIVATI', 'TRASPORTODISABILI'],\n",
      "      dtype='object')\n",
      "\n",
      "\n",
      "\n",
      "\n",
      "SCHEMA DATASET BARRIERE ARCHITETTONICHE Index(['ANNOSCOLASTICO', 'CODICESCUOLA', 'CODICEEDIFICIO',\n",
      "       'ACCORGIMENTISUPERAMENTOBARRIEREARCHITETTONICHE',\n",
      "       'ACCESSODAESTERNOCONRAMPE', 'SCALEANORMA', 'ASCENSORETRASPORTODISABILI',\n",
      "       'SERVOSCALAPIATTAFORMAELEVATRICE',\n",
      "       'SERVIZIIGIENICISPECIFICINORMADISABILI', 'PORTELARGHEZZAMINIMA',\n",
      "       'PERCORSIINTERNI', 'PERCORSIESTERNI'],\n",
      "      dtype='object')\n",
      "\n",
      "\n",
      "\n",
      "\n",
      "SCHEMA ELENCO SCUOLE Index(['ANNOSCOLASTICO', 'CODICESCUOLA', 'CODICEEDIFICIO', 'CODICECOMUNE',\n",
      "       'DESCRIZIONECOMUNE', 'SIGLAPROVINCIA', 'TIPOLOGIAINDIRIZZO',\n",
      "       'DENOMINAZIONEINDIRIZZO', 'NUMEROCIVICO', 'CAP'],\n",
      "      dtype='object')\n",
      "\n",
      "\n",
      "\n",
      "\n",
      "SCHEMA province Index(['provincia', 'regione', 'sigla'], dtype='object')\n"
     ]
    }
   ],
   "source": [
    "# ***************************** #\n",
    "# ********* ELENCO ************ # \n",
    "# ***************************** #\n",
    "\n",
    "elenco_scuole = pd.read_csv(data_dir + \"elenco_scuole_italia.csv\")\n",
    "\n",
    "# ***************************** #\n",
    "# ********* PROVINCE ********** # \n",
    "# ***************************** #\n",
    "\n",
    "\n",
    "elenco_province = pd.read_csv(data_dir + \"province.csv\", encoding='latin-1')\n",
    "elenco_regioni = elenco_province.regione.unique()\n",
    "\n",
    "# ***************************** #\n",
    "# ********** AMBIENTE ********* # \n",
    "# ***************************** #\n",
    "\n",
    "a_1718 = pd.read_csv(data_dir + \"ambiente_italia_1718.csv\")\n",
    "a_1819 = pd.read_csv(data_dir + \"ambiente_italia_1819.csv\")\n",
    "a_2021 = pd.read_csv(data_dir + \"ambiente_italia_2021.csv\")\n",
    "a_2122 = pd.read_csv(data_dir + \"ambiente_italia_2122.csv\")\n",
    "\n",
    "# MODIFICHE\n",
    "# drop last column in ambiente dataframes ( sembra poco rilevante )\n",
    "a_1718.drop(columns=['AREAALTREMOTIVAZIONI'], inplace=True)\n",
    "a_1819.drop(columns=['AREAALTREMOTIVAZIONI'])\n",
    "a_2021.drop(columns=['ALTRECRITICITASPECIFICHE'], inplace=True)\n",
    "a_2122.drop(columns=['ALTRECRITICITASPECIFICHE'], inplace=True)\n",
    "# drop column in position 12 ( non coincidono tra annate e sempra poco rilevante )\n",
    "a_1718.drop(columns=[a_1718.columns[12]], inplace=True)\n",
    "a_1819.drop(columns=[a_1819.columns[12]], inplace=True)\n",
    "a_2021.drop(columns=[a_2021.columns[12]], inplace=True)\n",
    "a_2122.drop(columns=[a_2122.columns[12]], inplace=True)\n",
    "\n",
    "# modifica nomi degli attributi \n",
    "make_consistent(a_2021, a_1819)\n",
    "make_consistent(a_2021, a_1718)\n",
    "\n",
    "# ***************************** #\n",
    "# ****** RAGGIUNGIBILITÀ ****** # \n",
    "# ***************************** #\n",
    "t_1516 = pd.read_csv(data_dir + \"trasporti_italia_1516.csv\")\n",
    "t_1718 = pd.read_csv(data_dir + \"trasporti_italia_1718.csv\")\n",
    "t_1819 = pd.read_csv(data_dir + \"trasporti_italia_1819.csv\")\n",
    "t_2021 = pd.read_csv(data_dir + \"trasporti_italia_2021.csv\")\n",
    "t_2122 = pd.read_csv(data_dir + \"trasporti_italia_2122.csv\")\n",
    "\n",
    "# MODIFICHE\n",
    "# drop last column ( \"ALTRO\", difficile da analizzare)\n",
    "t_1516.drop(columns=[t_1516.columns[t_1516.columns.size - 1]], inplace=True)\n",
    "t_1718.drop(columns=[t_1718.columns[t_1718.columns.size - 1]], inplace=True)\n",
    "t_1819.drop(columns=[t_1819.columns[t_1819.columns.size - 1]], inplace=True)\n",
    "t_2021.drop(columns=[t_2021.columns[t_2021.columns.size - 1]], inplace=True)\n",
    "t_2122.drop(columns=[t_2122.columns[t_2122.columns.size - 1]], inplace=True)\n",
    "# le annate 2121 e 2122 hanno in più una colonna alla fine relativa alla presenza di piste ciclabili\n",
    "\n",
    "# modifica nomi degli attributi \n",
    "make_consistent(t_2021, t_1516)\n",
    "make_consistent(t_2021, t_1718)\n",
    "make_consistent(t_2021, t_1819)\n",
    "\n",
    "# ***************************** #\n",
    "# * BARRIERE ARCHITETTONICHE ** # \n",
    "# ***************************** #\n",
    "ba_1718 = pd.read_csv(data_dir + \"barriere_architettoniche_italia_1718.csv\")\n",
    "ba_1819 = pd.read_csv(data_dir + \"barriere_architettoniche_italia_1819.csv\")\n",
    "ba_2021 = pd.read_csv(data_dir + \"barriere_architettoniche_italia_2021.csv\")\n",
    "ba_2122 = pd.read_csv(data_dir + \"barriere_architettoniche_italia_2122.csv\")\n",
    "\n",
    "# MODIFICHE\n",
    "# drop last column ( \"ALTRO\", difficile da analizzare)\n",
    "ba_1718.drop(columns=[ba_1718.columns[ba_1718.columns.size - 1]], inplace=True)\n",
    "ba_1819.drop(columns=[ba_1819.columns[ba_1819.columns.size - 1]], inplace=True)\n",
    "ba_2021.drop(columns=[ba_2021.columns[ba_2021.columns.size - 1]], inplace=True)\n",
    "ba_2122.drop(columns=[ba_2122.columns[ba_2122.columns.size - 1]], inplace=True)\n",
    "\n",
    "# modifica nomi degli attributi \n",
    "make_consistent(ba_2021, ba_1819)\n",
    "make_consistent(ba_2021, ba_1718)\n",
    "\n",
    "\n",
    "\n",
    "#####################################################################################\n",
    "\n",
    "\n",
    "### PRINT STUFF\n",
    "print('SCHEMA DATASET AMBIENTE', a_1819.columns)\n",
    "print(\"\\n\\n\\n\")\n",
    "print('SCHEMA DATASET RAGGIUNGIBILITÀ', t_1819.columns)\n",
    "print(\"\\n\\n\\n\")\n",
    "print('SCHEMA DATASET BARRIERE ARCHITETTONICHE', ba_1819.columns)\n",
    "print(\"\\n\\n\\n\")\n",
    "print('SCHEMA ELENCO SCUOLE', elenco_scuole.columns)\n",
    "print(\"\\n\\n\\n\")\n",
    "print('SCHEMA province', elenco_province.columns)"
   ]
  },
  {
   "cell_type": "markdown",
   "id": "82f3614b",
   "metadata": {},
   "source": [
    "## codici tipo di scuola"
   ]
  },
  {
   "cell_type": "code",
   "execution_count": 5,
   "id": "6dde4565",
   "metadata": {},
   "outputs": [
    {
     "name": "stdout",
     "output_type": "stream",
     "text": [
      "       ANNOSCOLASTICO CODICESCUOLA  CODICEEDIFICIO  CODICECOMUNE  \\\n",
      "1              202122   RMEE8DZ086       580013134         58001   \n",
      "4              202122   BGIS033008       162190782         16219   \n",
      "5              202122   MNMM80206T       200410540         20041   \n",
      "6              202122   GOEE800018       310010001         31001   \n",
      "7              202122   SITF05000T       520010003         52001   \n",
      "...               ...          ...             ...           ...   \n",
      "61138          202122   NUIC880002       910240896         91024   \n",
      "61141          202122   VAIC835008       121060001         12106   \n",
      "61144          202122   SATF076019       651370502         65137   \n",
      "61145          202122   BNMM84501L       620080201         62008   \n",
      "61148          202122   CREE812013       191090001         19109   \n",
      "\n",
      "           DESCRIZIONECOMUNE SIGLAPROVINCIA TIPOLOGIAINDIRIZZO  \\\n",
      "1                     AFFILE             RM                Via   \n",
      "4                  TREVIGLIO             BG                Via   \n",
      "5                    PIUBEGA             MN                Via   \n",
      "6         CAPRIVA DEL FRIULI             GO                Via   \n",
      "7      ABBADIA SAN SALVATORE             SI                Via   \n",
      "...                      ...            ...                ...   \n",
      "61138                  FONNI             NU             Piazza   \n",
      "61141                MORNAGO             VA                Via   \n",
      "61144                SCAFATI             SA                Via   \n",
      "61145              BENEVENTO             BN                Via   \n",
      "61148      TRESCORE CREMASCO             CR                Via   \n",
      "\n",
      "      DENOMINAZIONEINDIRIZZO NUMEROCIVICO    CAP  \n",
      "1         Don Giovanni Rossi       s.n.c.  00021  \n",
      "4                 CARAVAGGIO           50  24047  \n",
      "5                       ROMA           36  46040  \n",
      "6       degli Atleti Azzurri            1  34070  \n",
      "7                 CASE NUOVE           27  53021  \n",
      "...                      ...          ...    ...  \n",
      "61138              MATTEOTTI           SN  08023  \n",
      "61141                  Volta            9  21020  \n",
      "61144             Don Pagano            1  84018  \n",
      "61145            NICOLA SALA           11  82100  \n",
      "61148                marconi            5  26017  \n",
      "\n",
      "[45446 rows x 10 columns]\n"
     ]
    }
   ],
   "source": [
    "licei = ['PC', 'PL', 'PS', 'SL']\n",
    "istituti_tecnici = ['TA', 'TB', 'TD', 'TE', 'TF', 'TH', 'TL', 'TN']\n",
    "istituti_professionali = ['RA', 'RB', 'RC', 'RE', 'RF', 'RH', 'RI', 'RM', 'RN', 'RS', 'RT', 'RV']\n",
    "# area_artistica = ['SD', 'SM', 'SN', 'SR', 'ST']\n",
    "media = ['MM']\n",
    "elementari = ['EE']\n",
    "istituto_comprensivo = ['IC']\n",
    "superiori = ['IS']\n",
    "# scuola_materna = ['AA']  togliamo\n",
    "# magistrali = ['PM', 'PQ'] togliamo\n",
    "# altri = ['VC', 'VE'] togliamo\n",
    "\n",
    "codici_elementari = elementari + istituto_comprensivo\n",
    "codici_medie = media + istituto_comprensivo\n",
    "codici_superiori = superiori + istituti_professionali + istituti_tecnici + licei\n",
    "\n",
    "codici = codici_elementari + codici_medie + codici_superiori\n",
    "\n",
    "codici_scuola = elenco_scuole.CODICESCUOLA.to_numpy()\n",
    "codici_scuola = [x for x in codici_scuola if x[2:4] in codici]\n",
    "elenco_scuole = elenco_scuole[elenco_scuole.CODICESCUOLA.isin(codici_scuola) == True]\n",
    "print(elenco_scuole)"
   ]
  },
  {
   "cell_type": "markdown",
   "id": "292c6062",
   "metadata": {},
   "source": [
    "# Dati utili"
   ]
  },
  {
   "cell_type": "code",
   "execution_count": 6,
   "id": "20108de3",
   "metadata": {},
   "outputs": [],
   "source": [
    "codici_scuola = elenco_scuole.CODICESCUOLA.to_numpy()\n",
    "\n",
    "codici_scuola_elementari = [x for x in codici_scuola if x[2:4] in codici_elementari]\n",
    "codici_scuola_medie = [x for x in codici_scuola if x[2:4] in codici_medie]\n",
    "codici_scuola_superiori = [x for x in codici_scuola if x[2:4] in codici_superiori]\n",
    "\n",
    "\n",
    "years_labels = ['2017-2018', '2018-2019', '2020-2021', '2021-2022'] \n",
    "years_label_from_1516 = ['2015-2016'] + years_labels\n",
    "tipi_scuole_labels = ['Elementari', 'Medie', 'Superiori']"
   ]
  },
  {
   "cell_type": "markdown",
   "id": "47aeb492",
   "metadata": {},
   "source": [
    "# Test geopandas"
   ]
  },
  {
   "cell_type": "code",
   "execution_count": 7,
   "id": "f9f8ca38",
   "metadata": {},
   "outputs": [],
   "source": [
    "world = gpd.read_file(gpd.datasets.get_path('naturalearth_lowres'))\n",
    "shape_regioni = gpd.read_file(filename=(data_dir + 'regioni_shape/regioni.shp'))"
   ]
  },
  {
   "cell_type": "code",
   "execution_count": 8,
   "id": "d45ca0fc",
   "metadata": {
    "scrolled": true
   },
   "outputs": [
    {
     "data": {
      "text/plain": [
       "'\\n\\n#regioni[\\'SERVIZI_IGIENICI\\'] = percentuale_servizi_igienici_disabili(\\'Lombardia\\')\\n\\nregioni[\\'SERVIZI_IGIENICI\\'] = regioni.DEN_REG.apply(lambda x: percentuale_servizi_igienici_disabili(x))\\n\\n#regioni.loc[regioni.SERVIZI_IGIENICI == 0, \"SERVIZI_IGIENICI\"] = np.nan\\nnodata = regioni[regioni.SERVIZI_IGIENICI == 0]\\nregioni.drop(regioni[regioni.SERVIZI_IGIENICI == 0].index, inplace=True)\\n\\n# set subplot and get figure and axis\\nfig, ax = plt.subplots(1, figsize=(8, 8))\\nplt.title(\\'Servizi igienici per disabili\\')\\nax.set_axis_off()\\n\\ncmap = plt.cm.coolwarm\\n\\nbins = mc.Quantiles(regioni.SERVIZI_IGIENICI, k=10).bins\\n\\nregioni.plot(column=\\'SERVIZI_IGIENICI\\', cmap=cmap, ax=ax, \\n             edgecolor=\\'black\\', linewidth=1, \\n             scheme=\"User_Defined\", \\n             classification_kwds=dict(bins=bins),\\n             legend=True, legend_kwds={\\'title\\': \"legend\"}\\n)\\n\\nsm = plt.cm.ScalarMappable(cmap=cmap, norm=plt.Normalize(vmin=0, vmax=100))\\n\\nlinspace = np.linspace(0, 100, 10)\\nmin = regioni.SERVIZI_IGIENICI.min()\\nmax = regioni.SERVIZI_IGIENICI.max()\\npatches = []\\nfor i in range(10):\\n    previous = min if i == 0 else bins[i - 1]\\n    patches.append(\\n        mpatches.Patch(\\n            color=sm.to_rgba(linspace[i]), \\n            label=(\\n                str(round(previous)) + \\' - \\' + str(round(bins[i])) + \" %\"\\n            )\\n        )\\n    )\\n\\npatches.append(mpatches.Patch(color=\\'none\\'))\\npatches.append(mpatches.Patch(color=\\'gray\\', label=\\'no data\\'))\\nax.legend(handles=patches, loc=\"best\", prop={\\'size\\':9})\\n      \\nnodata.plot(color=\\'gray\\', ax=ax, edgecolor=\\'black\\', linewidth=1)\\n\\n\\nplt.savefig(img_dir + \\'cartina_servizi_igienici.png\\')\\n\\n'"
      ]
     },
     "execution_count": 8,
     "metadata": {},
     "output_type": "execute_result"
    }
   ],
   "source": [
    "regioni = gpd.read_file(filename=(data_dir + 'regioni_shape/regioni.shp'))\n",
    "\n",
    "def percentuale_servizi_igienici_disabili(regione):\n",
    "    prov = elenco_province[elenco_province.regione == regione].sigla\n",
    "    scuole = elenco_scuole[elenco_scuole.SIGLAPROVINCIA.isin(prov)].CODICESCUOLA\n",
    "    if(len(scuole) == 0): return 0\n",
    "    servizi_igienici = ba_2122[ba_2122.CODICESCUOLA.isin(scuole)].SERVIZIIGIENICISPECIFICINORMADISABILI\n",
    "    servizi_igienici = servizi_igienici == 'SI'\n",
    "    return servizi_igienici[servizi_igienici].size / len(scuole) * 100\n",
    "\"\"\"\n",
    "\n",
    "#regioni['SERVIZI_IGIENICI'] = percentuale_servizi_igienici_disabili('Lombardia')\n",
    "\n",
    "regioni['SERVIZI_IGIENICI'] = regioni.DEN_REG.apply(lambda x: percentuale_servizi_igienici_disabili(x))\n",
    "\n",
    "#regioni.loc[regioni.SERVIZI_IGIENICI == 0, \"SERVIZI_IGIENICI\"] = np.nan\n",
    "nodata = regioni[regioni.SERVIZI_IGIENICI == 0]\n",
    "regioni.drop(regioni[regioni.SERVIZI_IGIENICI == 0].index, inplace=True)\n",
    "\n",
    "# set subplot and get figure and axis\n",
    "fig, ax = plt.subplots(1, figsize=(8, 8))\n",
    "plt.title('Servizi igienici per disabili')\n",
    "ax.set_axis_off()\n",
    "\n",
    "cmap = plt.cm.coolwarm\n",
    "\n",
    "bins = mc.Quantiles(regioni.SERVIZI_IGIENICI, k=10).bins\n",
    "\n",
    "regioni.plot(column='SERVIZI_IGIENICI', cmap=cmap, ax=ax, \n",
    "             edgecolor='black', linewidth=1, \n",
    "             scheme=\"User_Defined\", \n",
    "             classification_kwds=dict(bins=bins),\n",
    "             legend=True, legend_kwds={'title': \"legend\"}\n",
    ")\n",
    "\n",
    "sm = plt.cm.ScalarMappable(cmap=cmap, norm=plt.Normalize(vmin=0, vmax=100))\n",
    "\n",
    "linspace = np.linspace(0, 100, 10)\n",
    "min = regioni.SERVIZI_IGIENICI.min()\n",
    "max = regioni.SERVIZI_IGIENICI.max()\n",
    "patches = []\n",
    "for i in range(10):\n",
    "    previous = min if i == 0 else bins[i - 1]\n",
    "    patches.append(\n",
    "        mpatches.Patch(\n",
    "            color=sm.to_rgba(linspace[i]), \n",
    "            label=(\n",
    "                str(round(previous)) + ' - ' + str(round(bins[i])) + \" %\"\n",
    "            )\n",
    "        )\n",
    "    )\n",
    "\n",
    "patches.append(mpatches.Patch(color='none'))\n",
    "patches.append(mpatches.Patch(color='gray', label='no data'))\n",
    "ax.legend(handles=patches, loc=\"best\", prop={'size':9})\n",
    "      \n",
    "nodata.plot(color='gray', ax=ax, edgecolor='black', linewidth=1)\n",
    "\n",
    "\n",
    "plt.savefig(img_dir + 'cartina_servizi_igienici.png')\n",
    "\n",
    "\"\"\""
   ]
  },
  {
   "cell_type": "code",
   "execution_count": 9,
   "id": "739004bc",
   "metadata": {},
   "outputs": [
    {
     "data": {
      "image/png": "[encoded data removed]",
      "text/plain": [
       "<Figure size 800x1600 with 1 Axes>"
      ]
     },
     "metadata": {},
     "output_type": "display_data"
    }
   ],
   "source": [
    "cartina(percentuale_servizi_igienici_disabili, plt.cm.coolwarm, 10, gpd.read_file(filename=(data_dir + 'regioni_shape/regioni.shp')), 'titolo')"
   ]
  },
  {
   "cell_type": "markdown",
   "id": "cb9b433b",
   "metadata": {},
   "source": [
    "# Le scuole nella città \n",
    "### Introduzione\n",
    "\n",
    "La ricerca ha l'obiettivo di analizzare le scuole dal punto di vista dell'inserimento nelle città; ovvero come essere dialogano con l'infrastruttura di trasporto e con l'ambiente circostante.\n",
    "Le analisi si articolano attraverso i seguenti temi:\n",
    "- la raggiungibilità delle scuole mediante i mezzi di trasporto pubblici disponibili nella città. \n",
    "- l'ambiente in cui si trova la scuola, ovvero la vicinanza della scuola a fonti inquinanti di vario tipo, cimiteri, discariche, ecc.;\n",
    "questo tema può anche diventare occasione di discutere la qualità e la distribuzione degli agenti inquinanti da un punto di vista pratico, ovvero legato ai luoghi che frequentiamo quotidianamente, piuttosto che da un punto di vista puramente scientifico.\n",
    "- il superamento delle barriere architettoniche, ovvero la presenza di accorgimenti strutturali che consentono anche a persone con disabilità di fruire in modo completo dell'edificio e dei suoi servizi;\n",
    "quest'ultimo punto consente di completare il tema della raggiungibilità.\n",
    "\n",
    "La ricerca porterà le diverse regioni e provincie italiane a confronto, con lo scopo di evidenziare le zone di maggior criticità; queste saranno analizzate in modo approfondito, per identificare nel dettaglio le problematiche e come esse si sono evolute nel tempo.\n",
    "\n",
    "I dati sono forniti dal ministero dell'istruzione alla seguente pagina: https://dati.istruzione.it/opendata/opendata/catalogo/elements1/?area=Edilizia%20Scolastica\n"
   ]
  },
  {
   "cell_type": "markdown",
   "id": "0392fd1e",
   "metadata": {},
   "source": [
    "# Raggiungibilità\n",
    "\n",
    "- scuolabus\n",
    "- urbani\n",
    "- interurbani\n",
    "- ferroviari\n",
    "\n",
    "\n",
    "INTRODUZIONE:\n",
    "- 1: Semplice line-chart in cui descriviamo l'andamento della percentuale di scuole raggiungibili per ogni tipo di mezzo pubblico; in questo modo per ogni anno vediamo in percentuale quante scuole sono raggiungibili con un certo mezzo, e vediamo nel tempo se questa percentuale è cambiata o meno; questo grafico ci permette di comprendere quali sono i mezzi presumibilmente più utilizzati per raggiungere le scuole.\n",
    "- 2: Una cartina epr ogni mezzo, in cui per ogni regione vediamo la percentuale di scuole raggiungibili con quel mezzo; in questo modo possiamo capire come sono distribuiti i mezzi nelle regioni, se si tratta quindi di mezzi utilizzati in modo diffuso in tutta italia o se si concentrano in alcune regioni; la scala dei colori dovrebbe rimanere la stessa per tutte le cartine in modo da mantenere consistenza tra i valori.\n",
    "\n",
    "barchart tipo mezzo o tipo scuola \n",
    "Probabilmente da queste due prime cartine non ricaveremo granché, ma credo abbia senso per farsi un idea generale\n",
    "\n",
    "\n",
    "SITUAZIONE GENERALE:\n",
    "- 3: si potrebbero fare delle cartine \"riassuntive\" che fotografano la situazione generale delle regioni: per ogni regione calcoliamo la percentuale di sucole raggiungibili con almeno un mezzo; potremmo fare una cartina per ogni \"numero di mezzi minimi\", quindi la cartina delle scuole raggiungibili da un mezzo, quella delle scuole raggiungibili da almeno 2 mezzi e così via. Queste cartine riassuntive dovrebbero consentirci di identificare la regione peggiore e quindi prenderla come caso critico da analizzare in modo più specifico.\n",
    "Come cartina riassuntiva si potrebbe anche usare, anzichè la percentuale di scuole, il numero di \"collegamenti\", ovvero se una scuola è raggiunta da 3 mezzi allora dà 3 collegamenti, e calcoliamo la percentuale contando che ogni scula potrebbe avere massimo tot collegamenti; in questo modo potremmo fare un'unica cartina, anche se forse la cartina delle scuole raggiunte da almeno un mezzo potrebbe avere più senso, perché credo sia importante che ci sia almeno un mezzo, piuttosto che se ci sono tanti mezzi per raggiungere una scuola\n",
    "\n",
    "\n",
    "REGIONE CRITICA:\n",
    "- 4: line chart in cui vediamo nel tempo se è cambiata la percentuale di scuole raggiunte da almeno un mezzo\n",
    "- 5: cartina in cui vediamo come la percentuale è distribuita nelle province; se c'è una provincia particolarmente critica potremmo andare a vedere la distribuzione comunale."
   ]
  },
  {
   "cell_type": "markdown",
   "id": "ff4f8ef6",
   "metadata": {},
   "source": [
    "### Scuole raggiunte da almeno un mezzo"
   ]
  },
  {
   "cell_type": "code",
   "execution_count": 10,
   "id": "04a89c2f",
   "metadata": {},
   "outputs": [],
   "source": [
    "def get_scuole_1mezzo(dataset):\n",
    "    return dataset[(dataset.SCUOLABUS == 'SI') | (dataset.TRASPORTIPUBBLICIURBANI == 'SI') | (dataset.TRASPORTIPUBBLICIINTERURBANI == 'SI') | (dataset.TRASPORTIFERROVIARI == 'SI')]\n",
    "\n",
    "scuole_1mezzo = get_scuole_1mezzo(t_2122)\n",
    "\n",
    "scuole_1mezzo_1516 = get_scuole_1mezzo(t_1516)\n",
    "scuole_1mezzo_1718 = get_scuole_1mezzo(t_1718)\n",
    "scuole_1mezzo_1819 = get_scuole_1mezzo(t_1819)\n",
    "scuole_1mezzo_2021 = get_scuole_1mezzo(t_2021)\n",
    "scuole_1mezzo_2122 = scuole_1mezzo\n",
    "\n",
    "codici_scuola_1mezzo = scuole_1mezzo.CODICESCUOLA.to_numpy()\n",
    "codici_scuola_1mezzo_1516 = scuole_1mezzo_1516.CODICESCUOLA.to_numpy()\n",
    "codici_scuola_1mezzo_1718 = scuole_1mezzo_1718.CODICESCUOLA.to_numpy()\n",
    "codici_scuola_1mezzo_1819 = scuole_1mezzo_1819.CODICESCUOLA.to_numpy()\n",
    "codici_scuola_1mezzo_2021 = scuole_1mezzo_2021.CODICESCUOLA.to_numpy()\n",
    "codici_scuola_1mezzo_2122 = scuole_1mezzo_2122.CODICESCUOLA.to_numpy()\n",
    "\n",
    "values = [\n",
    "    len(codici_scuola_1mezzo_1516) / len(codici_scuola) * 100,\n",
    "    len(codici_scuola_1mezzo_1718) / len(codici_scuola) * 100,\n",
    "    len(codici_scuola_1mezzo_1819) / len(codici_scuola) * 100,\n",
    "    len(codici_scuola_1mezzo_2021) / len(codici_scuola) * 100,\n",
    "    len(codici_scuola_1mezzo_2122) / len(codici_scuola) * 100,\n",
    "]\n",
    "\n",
    "elementari_1mezzo = [x for x in codici_scuola_elementari if x in codici_scuola_1mezzo]\n",
    "medie_1mezzo = [x for x in codici_scuola_medie if x in codici_scuola_1mezzo]\n",
    "superiori_1mezzo = [x for x in codici_scuola_superiori if x in codici_scuola_1mezzo]"
   ]
  },
  {
   "cell_type": "code",
   "execution_count": null,
   "id": "1fb4e907",
   "metadata": {},
   "outputs": [],
   "source": []
  },
  {
   "cell_type": "code",
   "execution_count": 11,
   "id": "302ae8c0",
   "metadata": {},
   "outputs": [
    {
     "name": "stdout",
     "output_type": "stream",
     "text": [
      "51.397262685384845\n",
      "33.972186771112966\n",
      "25.859261541169744\n"
     ]
    }
   ],
   "source": [
    "print(len(codici_scuola_elementari) / len(codici_scuola) * 100)\n",
    "print(len(codici_scuola_medie) / len(codici_scuola) * 100)\n",
    "print(len(codici_scuola_superiori) / len(codici_scuola) * 100)"
   ]
  },
  {
   "cell_type": "code",
   "execution_count": 12,
   "id": "f8bc45d7",
   "metadata": {},
   "outputs": [
    {
     "name": "stdout",
     "output_type": "stream",
     "text": [
      "54743\n",
      "45446\n",
      "120.4572459622409\n"
     ]
    },
    {
     "ename": "ValueError",
     "evalue": "Wedge sizes 'x' must be non negative values",
     "output_type": "error",
     "traceback": [
      "\u001b[0;31m---------------------------------------------------------------------------\u001b[0m",
      "\u001b[0;31mValueError\u001b[0m                                Traceback (most recent call last)",
      "Input \u001b[0;32mIn [12]\u001b[0m, in \u001b[0;36m<cell line: 14>\u001b[0;34m()\u001b[0m\n\u001b[1;32m     11\u001b[0m sizes \u001b[38;5;241m=\u001b[39m [percentuale_scuole_1mezzo, \u001b[38;5;241m100\u001b[39m\u001b[38;5;241m-\u001b[39mpercentuale_scuole_1mezzo]\n\u001b[1;32m     13\u001b[0m fig1, ax1 \u001b[38;5;241m=\u001b[39m plt\u001b[38;5;241m.\u001b[39msubplots()\n\u001b[0;32m---> 14\u001b[0m \u001b[43max1\u001b[49m\u001b[38;5;241;43m.\u001b[39;49m\u001b[43mpie\u001b[49m\u001b[43m(\u001b[49m\u001b[43msizes\u001b[49m\u001b[43m,\u001b[49m\u001b[43m \u001b[49m\u001b[43mlabels\u001b[49m\u001b[38;5;241;43m=\u001b[39;49m\u001b[43mlabels\u001b[49m\u001b[43m,\u001b[49m\u001b[43m \u001b[49m\u001b[43mautopct\u001b[49m\u001b[38;5;241;43m=\u001b[39;49m\u001b[38;5;124;43m'\u001b[39;49m\u001b[38;5;132;43;01m%1.1f\u001b[39;49;00m\u001b[38;5;132;43;01m%%\u001b[39;49;00m\u001b[38;5;124;43m'\u001b[39;49m\u001b[43m,\u001b[49m\u001b[43m \u001b[49m\u001b[43mstartangle\u001b[49m\u001b[38;5;241;43m=\u001b[39;49m\u001b[38;5;241;43m90\u001b[39;49m\u001b[43m)\u001b[49m\n\u001b[1;32m     15\u001b[0m ax1\u001b[38;5;241m.\u001b[39maxis(\u001b[38;5;124m'\u001b[39m\u001b[38;5;124mequal\u001b[39m\u001b[38;5;124m'\u001b[39m)  \u001b[38;5;66;03m# Equal aspect ratio ensures that pie is drawn as a circle.\u001b[39;00m\n\u001b[1;32m     16\u001b[0m plt\u001b[38;5;241m.\u001b[39mshow()\n",
      "File \u001b[0;32m/opt/anaconda3/lib/python3.8/site-packages/matplotlib/__init__.py:1423\u001b[0m, in \u001b[0;36m_preprocess_data.<locals>.inner\u001b[0;34m(ax, data, *args, **kwargs)\u001b[0m\n\u001b[1;32m   1420\u001b[0m \u001b[38;5;129m@functools\u001b[39m\u001b[38;5;241m.\u001b[39mwraps(func)\n\u001b[1;32m   1421\u001b[0m \u001b[38;5;28;01mdef\u001b[39;00m \u001b[38;5;21minner\u001b[39m(ax, \u001b[38;5;241m*\u001b[39margs, data\u001b[38;5;241m=\u001b[39m\u001b[38;5;28;01mNone\u001b[39;00m, \u001b[38;5;241m*\u001b[39m\u001b[38;5;241m*\u001b[39mkwargs):\n\u001b[1;32m   1422\u001b[0m     \u001b[38;5;28;01mif\u001b[39;00m data \u001b[38;5;129;01mis\u001b[39;00m \u001b[38;5;28;01mNone\u001b[39;00m:\n\u001b[0;32m-> 1423\u001b[0m         \u001b[38;5;28;01mreturn\u001b[39;00m \u001b[43mfunc\u001b[49m\u001b[43m(\u001b[49m\u001b[43max\u001b[49m\u001b[43m,\u001b[49m\u001b[43m \u001b[49m\u001b[38;5;241;43m*\u001b[39;49m\u001b[38;5;28;43mmap\u001b[39;49m\u001b[43m(\u001b[49m\u001b[43msanitize_sequence\u001b[49m\u001b[43m,\u001b[49m\u001b[43m \u001b[49m\u001b[43margs\u001b[49m\u001b[43m)\u001b[49m\u001b[43m,\u001b[49m\u001b[43m \u001b[49m\u001b[38;5;241;43m*\u001b[39;49m\u001b[38;5;241;43m*\u001b[39;49m\u001b[43mkwargs\u001b[49m\u001b[43m)\u001b[49m\n\u001b[1;32m   1425\u001b[0m     bound \u001b[38;5;241m=\u001b[39m new_sig\u001b[38;5;241m.\u001b[39mbind(ax, \u001b[38;5;241m*\u001b[39margs, \u001b[38;5;241m*\u001b[39m\u001b[38;5;241m*\u001b[39mkwargs)\n\u001b[1;32m   1426\u001b[0m     auto_label \u001b[38;5;241m=\u001b[39m (bound\u001b[38;5;241m.\u001b[39marguments\u001b[38;5;241m.\u001b[39mget(label_namer)\n\u001b[1;32m   1427\u001b[0m                   \u001b[38;5;129;01mor\u001b[39;00m bound\u001b[38;5;241m.\u001b[39mkwargs\u001b[38;5;241m.\u001b[39mget(label_namer))\n",
      "File \u001b[0;32m/opt/anaconda3/lib/python3.8/site-packages/matplotlib/axes/_axes.py:3149\u001b[0m, in \u001b[0;36mAxes.pie\u001b[0;34m(self, x, explode, labels, colors, autopct, pctdistance, shadow, labeldistance, startangle, radius, counterclock, wedgeprops, textprops, center, frame, rotatelabels, normalize)\u001b[0m\n\u001b[1;32m   3146\u001b[0m     \u001b[38;5;28;01mraise\u001b[39;00m \u001b[38;5;167;01mValueError\u001b[39;00m(\u001b[38;5;124m\"\u001b[39m\u001b[38;5;124mx must be 1D\u001b[39m\u001b[38;5;124m\"\u001b[39m)\n\u001b[1;32m   3148\u001b[0m \u001b[38;5;28;01mif\u001b[39;00m np\u001b[38;5;241m.\u001b[39many(x \u001b[38;5;241m<\u001b[39m \u001b[38;5;241m0\u001b[39m):\n\u001b[0;32m-> 3149\u001b[0m     \u001b[38;5;28;01mraise\u001b[39;00m \u001b[38;5;167;01mValueError\u001b[39;00m(\u001b[38;5;124m\"\u001b[39m\u001b[38;5;124mWedge sizes \u001b[39m\u001b[38;5;124m'\u001b[39m\u001b[38;5;124mx\u001b[39m\u001b[38;5;124m'\u001b[39m\u001b[38;5;124m must be non negative values\u001b[39m\u001b[38;5;124m\"\u001b[39m)\n\u001b[1;32m   3151\u001b[0m sx \u001b[38;5;241m=\u001b[39m x\u001b[38;5;241m.\u001b[39msum()\n\u001b[1;32m   3153\u001b[0m \u001b[38;5;28;01mif\u001b[39;00m normalize:\n",
      "\u001b[0;31mValueError\u001b[0m: Wedge sizes 'x' must be non negative values"
     ]
    },
    {
     "data": {
      "image/png": "[encoded data removed]",
      "text/plain": [
       "<Figure size 640x480 with 1 Axes>"
      ]
     },
     "metadata": {},
     "output_type": "display_data"
    }
   ],
   "source": [
    "#print(len(elementari_1mezzo) / len(codici_scuola_elementari) * 100)\n",
    "#print(len(medie_1mezzo) / len(codici_scuola_medie) * 100)\n",
    "#print(len(superiori_1mezzo) / len(codici_scuola_superiori) * 100)\n",
    "\n",
    "print(len(codici_scuola_1mezzo))\n",
    "print(len(codici_scuola))\n",
    "percentuale_scuole_1mezzo = len(codici_scuola_1mezzo) / len(codici_scuola) * 100\n",
    "print(percentuale_scuole_1mezzo)\n",
    "\n",
    "labels = 'raggiungibili con mezzi', ' '\n",
    "sizes = [percentuale_scuole_1mezzo, 100-percentuale_scuole_1mezzo]\n",
    "\n",
    "fig1, ax1 = plt.subplots()\n",
    "ax1.pie(sizes, labels=labels, autopct='%1.1f%%', startangle=90)\n",
    "ax1.axis('equal')  # Equal aspect ratio ensures that pie is drawn as a circle.\n",
    "plt.show()"
   ]
  },
  {
   "cell_type": "markdown",
   "id": "085dae7d",
   "metadata": {},
   "source": [
    "### Scuole raggiunte dallo scuolabus"
   ]
  },
  {
   "cell_type": "code",
   "execution_count": null,
   "id": "999bc420",
   "metadata": {},
   "outputs": [],
   "source": [
    "scuole_scuolabus = t_2122[t_2122.SCUOLABUS == 'SI']\n",
    "codici_scuola_scuolabus = scuole_scuolabus.CODICESCUOLA.to_numpy()\n",
    "\n",
    "elementari_scuolabus = [x for x in codici_scuola_elementari if x in codici_scuola_scuolabus]\n",
    "medie_scuolabus = [x for x in codici_scuola_medie if x in codici_scuola_scuolabus]\n",
    "superiori_scuolabus = [x for x in codici_scuola_superiori if x in codici_scuola_scuolabus]\n"
   ]
  },
  {
   "cell_type": "code",
   "execution_count": null,
   "id": "16b5bfa0",
   "metadata": {
    "scrolled": true
   },
   "outputs": [],
   "source": [
    "percentuali_scuolabus = [\n",
    "    len(elementari_scuolabus) / len(codici_scuola_elementari) * 100,\n",
    "    len(medie_scuolabus) / len(codici_scuola_medie) * 100,\n",
    "    len(superiori_scuolabus) / len(codici_scuola_superiori) * 100\n",
    "]\n",
    "\n",
    "percentuale_scuolabus = len(codici_scuola_scuolabus) / len(codici_scuola) * 100"
   ]
  },
  {
   "cell_type": "markdown",
   "id": "64df26c4",
   "metadata": {},
   "source": [
    "### Scuole raggiunte da trasporti pubblici urbani"
   ]
  },
  {
   "cell_type": "code",
   "execution_count": null,
   "id": "704936e7",
   "metadata": {},
   "outputs": [],
   "source": [
    "scuole_urbano = t_2122[t_2122.TRASPORTIPUBBLICIURBANI == 'SI']\n",
    "codici_scuola_urbano = scuole_urbano.CODICESCUOLA.to_numpy()\n",
    "\n",
    "elementari_urbano = [x for x in codici_scuola_elementari if x in codici_scuola_urbano]\n",
    "medie_urbano = [x for x in codici_scuola_medie if x in codici_scuola_urbano]\n",
    "superiori_urbano = [x for x in codici_scuola_superiori if x in codici_scuola_urbano]"
   ]
  },
  {
   "cell_type": "code",
   "execution_count": null,
   "id": "7eca11e5",
   "metadata": {
    "scrolled": true
   },
   "outputs": [],
   "source": [
    "print(len(elementari_urbano) / len(codici_scuola_elementari) * 100)\n",
    "print(len(medie_urbano) / len(codici_scuola_medie) * 100)\n",
    "print(len(superiori_urbano) / len(codici_scuola_superiori) * 100)\n",
    "\n",
    "percentuali_urbano = [\n",
    "    len(elementari_urbano) / len(codici_scuola_elementari) * 100,\n",
    "    len(medie_urbano) / len(codici_scuola_medie) * 100,\n",
    "    len(superiori_urbano) / len(codici_scuola_superiori) * 100\n",
    "]\n",
    "\n",
    "percentuale_urbano = len(codici_scuola_urbano) / len(codici_scuola) * 100"
   ]
  },
  {
   "cell_type": "markdown",
   "id": "7fa6645f",
   "metadata": {},
   "source": [
    "### Scuole raggiunte da trasporti pubblici Interurbani"
   ]
  },
  {
   "cell_type": "code",
   "execution_count": null,
   "id": "7eac5d00",
   "metadata": {},
   "outputs": [],
   "source": [
    "scuole_interurbano = t_2122[t_2122.TRASPORTIPUBBLICIINTERURBANI == 'SI']\n",
    "codici_scuola_interurbano = scuole_interurbano.CODICESCUOLA.to_numpy()\n",
    "\n",
    "elementari_interurbano = [x for x in codici_scuola_elementari if x in codici_scuola_interurbano]\n",
    "medie_interurbano = [x for x in codici_scuola_medie if x in codici_scuola_interurbano]\n",
    "superiori_interurbano = [x for x in codici_scuola_superiori if x in codici_scuola_interurbano]"
   ]
  },
  {
   "cell_type": "code",
   "execution_count": null,
   "id": "700fb375",
   "metadata": {},
   "outputs": [],
   "source": [
    "print(len(elementari_interurbano) / len(codici_scuola_elementari) * 100)\n",
    "print(len(medie_interurbano) / len(codici_scuola_medie) * 100)\n",
    "print(len(superiori_interurbano) / len(codici_scuola_superiori) * 100)\n",
    "\n",
    "percentuali_interurbano = [\n",
    "    len(elementari_interurbano) / len(codici_scuola_elementari) * 100,\n",
    "    len(medie_interurbano) / len(codici_scuola_medie) * 100,\n",
    "    len(superiori_interurbano) / len(codici_scuola_superiori) * 100\n",
    "]\n",
    "\n",
    "percentuale_interurbano = len(codici_scuola_interurbano) / len(codici_scuola) * 100"
   ]
  },
  {
   "cell_type": "markdown",
   "id": "903d2d41",
   "metadata": {},
   "source": [
    "### Scuole raggiunte da trasporti ferroviari"
   ]
  },
  {
   "cell_type": "code",
   "execution_count": null,
   "id": "7c7906d0",
   "metadata": {},
   "outputs": [],
   "source": [
    "scuole_ferroviario = t_2122[t_2122.TRASPORTIFERROVIARI == 'SI']\n",
    "codici_scuola_ferroviario = scuole_ferroviario.CODICESCUOLA.to_numpy()\n",
    "\n",
    "elementari_ferroviario = [x for x in codici_scuola_elementari if x in codici_scuola_ferroviario]\n",
    "medie_ferroviario = [x for x in codici_scuola_medie if x in codici_scuola_ferroviario]\n",
    "superiori_ferroviario = [x for x in codici_scuola_superiori if x in codici_scuola_ferroviario]"
   ]
  },
  {
   "cell_type": "code",
   "execution_count": null,
   "id": "db3fd9b9",
   "metadata": {
    "scrolled": true
   },
   "outputs": [],
   "source": [
    "print(len(elementari_ferroviario) / len(codici_scuola_elementari) * 100)\n",
    "print(len(medie_ferroviario) / len(codici_scuola_medie) * 100)\n",
    "print(len(superiori_ferroviario) / len(codici_scuola_superiori) * 100)\n",
    "\n",
    "percentuali_ferroviario = [\n",
    "    len(elementari_ferroviario) / len(codici_scuola_elementari) * 100,\n",
    "    len(medie_ferroviario) / len(codici_scuola_medie) * 100,\n",
    "    len(superiori_ferroviario) / len(codici_scuola_superiori) * 100\n",
    "]\n",
    "\n",
    "percentuale_ferroviario = len(codici_scuola_ferroviario) / len(codici_scuola) * 100"
   ]
  },
  {
   "cell_type": "markdown",
   "id": "fbf360c5",
   "metadata": {},
   "source": [
    "### Barchart"
   ]
  },
  {
   "cell_type": "code",
   "execution_count": null,
   "id": "a40b6cfc",
   "metadata": {},
   "outputs": [],
   "source": [
    "fig, ax = plt.subplots(figsize=(10,10))\n",
    "\n",
    "plt.ylim([0, 100])\n",
    "\n",
    "def autolabel(rects):\n",
    "    for rect in rects:\n",
    "        height = round(rect.get_height())\n",
    "        ax.annotate('{}'.format(height),\n",
    "                    xy=(rect.get_x() + rect.get_width() / 2, height),\n",
    "                    xytext=(0, 10),  # 3 points vertical offset\n",
    "                    textcoords=\"offset points\",\n",
    "                    ha='center', va='bottom', fontsize=15)\n",
    "\n",
    "\n",
    "\n",
    "mezzi_labels = ['Scuolabus', 'Trasporto Urbano', 'Trasporto Interurbano', 'Trasporto Ferroviario']\n",
    "percentuali = [percentuale_scuolabus, percentuale_urbano, percentuale_interurbano, percentuale_ferroviario]\n",
    "plt.title('Distribuzione mezzi di trasporto per le scuole', fontsize=20)\n",
    "plt.ylabel(\"% di scuole raggiunte\", fontsize=15)\n",
    "\n",
    "bars = plt.bar(mezzi_labels, percentuali, 0.6, color='c', edgecolor='darkcyan', linewidth=2)\n",
    "#ax.bar_label(bars)\n",
    "autolabel(bars)"
   ]
  },
  {
   "cell_type": "code",
   "execution_count": null,
   "id": "890b030e",
   "metadata": {},
   "outputs": [],
   "source": [
    "plt.figure(figsize=(10,10))\n",
    "plt.ylim([0, 100])\n",
    "width = 0.15\n",
    "indexes = np.arange(3)\n",
    "plt.bar(indexes, percentuali_scuolabus, 0.12, color='c', label='Scuolabus')\n",
    "plt.bar(indexes + width, percentuali_urbano, 0.12, color='lightcoral', label='Trasporto Urbano')\n",
    "plt.bar(indexes + width*2, percentuali_interurbano, 0.12, color='mediumseagreen', label='Trasporto Interurbano')\n",
    "plt.bar(indexes + width*3, percentuali_ferroviario, 0.12, color='goldenrod', label='Trasporto Ferroviario')\n",
    "\n",
    "plt.xticks(indexes + width*1.5, tipi_scuole_labels, fontsize = 15)\n",
    "plt.legend()"
   ]
  },
  {
   "cell_type": "markdown",
   "id": "268ac456",
   "metadata": {},
   "source": [
    "## Cartina 1 Mezzo"
   ]
  },
  {
   "cell_type": "code",
   "execution_count": null,
   "id": "d6c82962",
   "metadata": {},
   "outputs": [],
   "source": [
    "def get_1mezzo_by_region(regione):\n",
    "    codici_scuola_regione = get_scuole_by_region(regione, elenco_scuole, elenco_province).CODICESCUOLA.to_numpy()\n",
    "    codici_scuola_regione_1mezzo = [x for x in codici_scuola_regione if x in codici_scuola_1mezzo]\n",
    "    if(len(codici_scuola_regione) == 0): return 0\n",
    "    return len(codici_scuola_regione_1mezzo) / len(codici_scuola_regione) * 100\n",
    "\n",
    "cartina(get_1mezzo_by_region, plt.cm.coolwarm, 6, shape_regioni, '% Scuole raggiunte da almeno un mezzo')\n",
    "\n"
   ]
  },
  {
   "cell_type": "markdown",
   "id": "8a030cad",
   "metadata": {},
   "source": [
    "# Ambiente\n",
    "\n",
    "INTRODUZIONE:\n",
    "I seguenti punti sono rilevanti per determinare la vivibilità dell'ambiente in cui è inserita la scuola; oltre al tema della salute, legata principalmente agli agenti inquinanti, gli elementi di disturbo come traffico, transiti ferroviari e in generali fonti di inquinamento acustico possono essere determinanti per l'effettiva vivibilità dell'ambiente durante le lezioni e durante i momenti di svago.\n",
    "\n",
    "- vicinanza discarica\n",
    "- vicinanza industrie inquinanti\n",
    "- vicinanza acque inquinate\n",
    "- vicinanza fonti inquinamento atmosferico\n",
    "- vicinanza fonti di inquinamento acustico\n",
    "- vicinanza fonti di radiazioni elettro magnetiche\n",
    "- presenza grande traffico \n",
    "- presenza transito ferroviario\n",
    "- presenza industrie a rischio\n",
    "\n",
    "GRAFICI:\n",
    "- 1: istogramma in cui per ogni categoria si dicono le percentuali di scuole che sono vicini a quella cosa, in modo da individuare l'elemento negativo più presente vicino alle scuole (non ha senso andare a vedere l'andamento negli anni, perché credo siano cose che non cambiano in pochi anni; sarebbe sensato se avessimo i dati di 20 anni forse )\n",
    "- 2: cartina delle regioni in cui per ogni elemento inquinante mettiamo la percentuale di scuole, così da vedere per esempio in che zona dell'italia sono maggiormente presenti industrie inquinanti vicino alle scuole, in che zona d'italia sono maggiormente presenti altri tipi di fonti inquinanti ecc. -> in questo modo creiamo delle mappe di distribuzione degli agenti inquinanti, il che potrebbe essere molto interessante.\n",
    "- 3: cartina in cui per ogni regione vediamo la percentuale media di vicinanze, cioè per ogni scuola il numero di cose a cui è vicina, facciamo la media e quindi infine abbiamo per ogni regione un indice di qualità dell'ambiente ( da 0 a 11, dove 0 significa che le scuole sono mediamente vicine a 0 fonti inquinanti, e 11 significa che le scuole sono mediamente vicine a 11 fonti inquinanti diverse); da questa cartina possiamo scegliere quella peggiore e usarla come caso critico\n",
    "\n",
    "REGIONE CRITICA:\n",
    "- 4: possiamo fare una sorta di infografica in cui mettiamo insieme i dati ricavati dalle cartine precedenti, ovvero per la regione scelta la percentuale di scuole vicine ad una certa fonte di inquinamento, ecc., così da avere un quadro riassuntivo per quella regione.\n",
    "- 5: Potenzialmente possiamo fare un discorso provinciale, quindi fare la cartina della percentuale media delle vicinanze per vedere se la situazione varia al variare delle province; se notiamo delle differenze allora potremmo anche fare le cartine in cui vediamo per ogni agente inquinante come è distribuito nelle province, anche se così diventa lungo, potremmo farlo solo per alcuni, magari quelli la cui percentuale è maggiore (tipo sappiamo che per la regione A, una percentuale altissima di scuole è vicina ad un agente inquinante B, allora possiamo vedere la situazione a livello provinciale, e quindi vedere per ogni provincia la percentuale di scuole vicine all'agente inquinante B)"
   ]
  },
  {
   "cell_type": "markdown",
   "id": "6a841db6",
   "metadata": {},
   "source": [
    "# Barriere architettoniche\n",
    "\n",
    "Categorie:\n",
    "- Accorgimenti presenti in generale ( i dati successivi sono presenti solo se questa è a si )\n",
    "\n",
    "- accesso esterno con rampe\n",
    "- Ascensore per il trasporto disabili\n",
    "- Servoscala piattaforma elevatrice\n",
    "- servizi igienici per disabili\n",
    "\n",
    "\n",
    "GRAFICI:\n",
    "- barchart categorie servizi\n",
    "- 1: Linechart in cui per ogni servizi indichiamo la percentuale di scuole che lo offrono; così identifichiamo i servizi meno diffusi e quindi critici, e se queste percentuali sono cambiate nel tempo.\n",
    "- 2: cartina in cui per ogni regione calcoliamo la percentuale di scuole che in generale hanno accorgimenti \n",
    "- 3: potremmo fare una cartina per ogni servizio (magari non per tutti, per i principali, tipo accesso con rampe, servo scala o ascensore e servizi igienici) oppure magari una cartina in cui mettiamo la percentuale di scuole che hanno un set \"base\" (tipo rampe + ascensore o servoscala e servizi) di accorgimenti, e sulla base di quest'ultima scegliamo la regione critica\n",
    "\n",
    "- pie-chart\n",
    "\n",
    "REGIONE CRITICA:\n",
    "- 4: linechart in cui vediamo se la percentuale di scuole che presenta il set base di accorgimenti è variato nel tempo\n",
    "- 5: cartina a livello provinciale, per vedere se la carenza è localizzata o generale.\n",
    "\n",
    "\n",
    "Problematicità: come trattiamo i non definiti? li includiamo nel totale? io li includerei come no; è vero che bisognerebbe dare il beneficio del dubbio, ma volendo dichiarare quante scuole, secondo i dati, presentano questi servizi, il non definito mi pare più un no che un si; il motivo per cui è non definito è una problematica relativa alla raccolta dei dati.\n",
    "Quindi le percentuali le farei SI / SI + NO + NON DEFINITO\n",
    "Comunque durante la presentazione dovremmo far presente di questa cosa e giustificare la scelta fatta\n"
   ]
  }
 ],
 "metadata": {
  "kernelspec": {
   "display_name": "Python 3 (ipykernel)",
   "language": "python",
   "name": "python3"
  },
  "language_info": {
   "codemirror_mode": {
    "name": "ipython",
    "version": 3
   },
   "file_extension": ".py",
   "mimetype": "text/x-python",
   "name": "python",
   "nbconvert_exporter": "python",
   "pygments_lexer": "ipython3",
   "version": "3.8.8"
  }
 },
 "nbformat": 4,
 "nbformat_minor": 5
}
