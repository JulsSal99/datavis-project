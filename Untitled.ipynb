{
 "cells": [
  {
   "cell_type": "code",
   "execution_count": 2,
   "id": "32d3b9f2",
   "metadata": {},
   "outputs": [],
   "source": [
    "import matplotlib.pyplot as plt"
   ]
  },
  {
   "cell_type": "markdown",
   "id": "4d28c9af",
   "metadata": {},
   "source": [
    "### Colori\n",
    "- coral + tomato\n",
    "- cornflowerblue + royalblue"
   ]
  },
  {
   "cell_type": "markdown",
   "id": "07c58bd4",
   "metadata": {},
   "source": [
    "# Raggiungibilità"
   ]
  },
  {
   "cell_type": "markdown",
   "id": "c59c22e9",
   "metadata": {},
   "source": [
    "## Grafi"
   ]
  },
  {
   "cell_type": "markdown",
   "id": "684f39ff",
   "metadata": {},
   "source": [
    "### Distribuzione scuole"
   ]
  },
  {
   "cell_type": "code",
   "execution_count": 3,
   "id": "31372451",
   "metadata": {
    "scrolled": true
   },
   "outputs": [
    {
     "ename": "NameError",
     "evalue": "name 'codici_scuola_elementari' is not defined",
     "output_type": "error",
     "traceback": [
      "\u001b[1;31m---------------------------------------------------------------------------\u001b[0m",
      "\u001b[1;31mNameError\u001b[0m                                 Traceback (most recent call last)",
      "\u001b[1;32m~\\AppData\\Local\\Temp\\ipykernel_9740\\739570798.py\u001b[0m in \u001b[0;36m<module>\u001b[1;34m\u001b[0m\n\u001b[0;32m     13\u001b[0m \u001b[1;33m\u001b[0m\u001b[0m\n\u001b[0;32m     14\u001b[0m \u001b[0mscuole_labels\u001b[0m \u001b[1;33m=\u001b[0m \u001b[1;33m[\u001b[0m\u001b[1;34m'Elementari'\u001b[0m\u001b[1;33m,\u001b[0m \u001b[1;34m'Medie'\u001b[0m\u001b[1;33m,\u001b[0m \u001b[1;34m'Superiori'\u001b[0m\u001b[1;33m]\u001b[0m\u001b[1;33m\u001b[0m\u001b[1;33m\u001b[0m\u001b[0m\n\u001b[1;32m---> 15\u001b[1;33m \u001b[0mvalori\u001b[0m \u001b[1;33m=\u001b[0m \u001b[1;33m[\u001b[0m\u001b[0mlen\u001b[0m\u001b[1;33m(\u001b[0m\u001b[0mcodici_scuola_elementari\u001b[0m\u001b[1;33m)\u001b[0m\u001b[1;33m,\u001b[0m \u001b[0mlen\u001b[0m\u001b[1;33m(\u001b[0m\u001b[0mcodici_scuola_medie\u001b[0m\u001b[1;33m)\u001b[0m\u001b[1;33m,\u001b[0m \u001b[0mlen\u001b[0m\u001b[1;33m(\u001b[0m\u001b[0mcodici_scuola_superiori\u001b[0m\u001b[1;33m)\u001b[0m\u001b[1;33m]\u001b[0m\u001b[1;33m\u001b[0m\u001b[1;33m\u001b[0m\u001b[0m\n\u001b[0m\u001b[0;32m     16\u001b[0m \u001b[1;31m#plt.title('Distribuzione istituti scolastici', fontsize=20)\u001b[0m\u001b[1;33m\u001b[0m\u001b[1;33m\u001b[0m\u001b[0m\n\u001b[0;32m     17\u001b[0m \u001b[0mplt\u001b[0m\u001b[1;33m.\u001b[0m\u001b[0mylabel\u001b[0m\u001b[1;33m(\u001b[0m\u001b[1;34m\"numero di scuole\"\u001b[0m\u001b[1;33m,\u001b[0m \u001b[0mfontsize\u001b[0m\u001b[1;33m=\u001b[0m\u001b[1;36m10\u001b[0m\u001b[1;33m)\u001b[0m\u001b[1;33m\u001b[0m\u001b[1;33m\u001b[0m\u001b[0m\n",
      "\u001b[1;31mNameError\u001b[0m: name 'codici_scuola_elementari' is not defined"
     ]
    },
    {
     "data": {
      "image/png": "[encoded data removed]",
      "text/plain": [
       "<Figure size 1000x1000 with 1 Axes>"
      ]
     },
     "metadata": {},
     "output_type": "display_data"
    }
   ],
   "source": [
    "fig, ax = plt.subplots(figsize=(10,10))\n",
    "\n",
    "plt.ylim([0, 27000])\n",
    "\n",
    "def autolabel(rects):\n",
    "    for rect in rects:\n",
    "        height = round(rect.get_height())\n",
    "        ax.annotate('{}'.format(height),\n",
    "                    xy=(rect.get_x() + rect.get_width() / 2, height),\n",
    "                    xytext=(0, 10),  # 3 points vertical offset\n",
    "                    textcoords=\"offset points\",\n",
    "                    ha='center', va='bottom', fontsize=15)\n",
    "\n",
    "scuole_labels = ['Elementari', 'Medie', 'Superiori']\n",
    "valori = [len(codici_scuola_elementari), len(codici_scuola_medie), len(codici_scuola_superiori)]\n",
    "#plt.title('Distribuzione istituti scolastici', fontsize=20)\n",
    "plt.ylabel(\"numero di scuole\", fontsize=10)\n",
    "\n",
    "bars = plt.bar(scuole_labels, valori, 0.6, color='coral', edgecolor='tomato', linewidth=2)\n",
    "#ax.bar_label(bars)\n",
    "autolabel(bars)"
   ]
  },
  {
   "cell_type": "markdown",
   "id": "84799751",
   "metadata": {},
   "source": [
    "# Raggiungibilità scuole (pie)"
   ]
  },
  {
   "cell_type": "code",
   "execution_count": 4,
   "id": "0e0f5526",
   "metadata": {
    "scrolled": true
   },
   "outputs": [
    {
     "ename": "NameError",
     "evalue": "name 'codici_scuola_1mezzo' is not defined",
     "output_type": "error",
     "traceback": [
      "\u001b[1;31m---------------------------------------------------------------------------\u001b[0m",
      "\u001b[1;31mNameError\u001b[0m                                 Traceback (most recent call last)",
      "\u001b[1;32m~\\AppData\\Local\\Temp\\ipykernel_9740\\906584897.py\u001b[0m in \u001b[0;36m<module>\u001b[1;34m\u001b[0m\n\u001b[1;32m----> 1\u001b[1;33m \u001b[0mpercentuale_scuole_1mezzo\u001b[0m \u001b[1;33m=\u001b[0m \u001b[0mlen\u001b[0m\u001b[1;33m(\u001b[0m\u001b[0mcodici_scuola_1mezzo\u001b[0m\u001b[1;33m)\u001b[0m \u001b[1;33m/\u001b[0m \u001b[0mlen\u001b[0m\u001b[1;33m(\u001b[0m\u001b[0mcodici_scuola\u001b[0m\u001b[1;33m)\u001b[0m \u001b[1;33m*\u001b[0m \u001b[1;36m100\u001b[0m\u001b[1;33m\u001b[0m\u001b[1;33m\u001b[0m\u001b[0m\n\u001b[0m\u001b[0;32m      2\u001b[0m \u001b[0msizes\u001b[0m \u001b[1;33m=\u001b[0m \u001b[1;33m[\u001b[0m\u001b[0mpercentuale_scuole_1mezzo\u001b[0m\u001b[1;33m,\u001b[0m \u001b[1;36m100\u001b[0m\u001b[1;33m-\u001b[0m\u001b[0mpercentuale_scuole_1mezzo\u001b[0m\u001b[1;33m]\u001b[0m\u001b[1;33m\u001b[0m\u001b[1;33m\u001b[0m\u001b[0m\n\u001b[0;32m      3\u001b[0m \u001b[1;33m\u001b[0m\u001b[0m\n\u001b[0;32m      4\u001b[0m \u001b[0mfig1\u001b[0m\u001b[1;33m,\u001b[0m \u001b[0max1\u001b[0m \u001b[1;33m=\u001b[0m \u001b[0mplt\u001b[0m\u001b[1;33m.\u001b[0m\u001b[0msubplots\u001b[0m\u001b[1;33m(\u001b[0m\u001b[1;33m)\u001b[0m\u001b[1;33m\u001b[0m\u001b[1;33m\u001b[0m\u001b[0m\n\u001b[0;32m      5\u001b[0m \u001b[0max1\u001b[0m\u001b[1;33m.\u001b[0m\u001b[0mpie\u001b[0m\u001b[1;33m(\u001b[0m\u001b[0msizes\u001b[0m\u001b[1;33m,\u001b[0m  \u001b[0mstartangle\u001b[0m\u001b[1;33m=\u001b[0m\u001b[1;36m90\u001b[0m\u001b[1;33m)\u001b[0m\u001b[1;33m\u001b[0m\u001b[1;33m\u001b[0m\u001b[0m\n",
      "\u001b[1;31mNameError\u001b[0m: name 'codici_scuola_1mezzo' is not defined"
     ]
    }
   ],
   "source": [
    "percentuale_scuole_1mezzo = len(codici_scuola_1mezzo) / len(codici_scuola) * 100\n",
    "sizes = [percentuale_scuole_1mezzo, 100-percentuale_scuole_1mezzo]\n",
    "\n",
    "fig1, ax1 = plt.subplots()\n",
    "ax1.pie(sizes,  startangle=90, colors=[\"cornflowerblue\", \"coral\"])\n",
    "ax1.axis('equal')  # Equal aspect ratio ensures that pie is drawn as a circle.\n",
    "plt.show()"
   ]
  },
  {
   "cell_type": "markdown",
   "id": "96ebed05",
   "metadata": {},
   "source": [
    "## Raggiungibilità con i mezzi di trasporto"
   ]
  },
  {
   "cell_type": "code",
   "execution_count": null,
   "id": "41e71652",
   "metadata": {},
   "outputs": [],
   "source": [
    " fig, ax = plt.subplots(figsize=(10,10))\n",
    "\n",
    "plt.ylim([0, 100])\n",
    "\n",
    "def autolabel(rects):\n",
    "    for rect in rects:\n",
    "        height = round(rect.get_height())\n",
    "        ax.annotate('{}'.format(height),\n",
    "                    xy=(rect.get_x() + rect.get_width() / 2, height),\n",
    "                    xytext=(0, 10),  # 3 points vertical offset\n",
    "                    textcoords=\"offset points\",\n",
    "                    ha='center', va='bottom', fontsize=15)\n",
    "\n",
    "\n",
    "\n",
    "mezzi_labels = ['Scuolabus', 'Trasporto Urbano', 'Trasporto Interurbano', 'Trasporto Ferroviario']\n",
    "percentuali = [percentuale_scuolabus, percentuale_urbano, percentuale_interurbano, percentuale_ferroviario]\n",
    "#plt.title('Distribuzione mezzi di trasporto per le scuole', fontsize=20)\n",
    "plt.ylabel(\"percentuale di scuole raggiunte\", fontsize=10)\n",
    "\n",
    "bars = plt.bar(mezzi_labels, percentuali, 0.6, color='cornflowerblue', edgecolor='royalblue', linewidth=2)\n",
    "#ax.bar_label(bars)\n",
    "autolabel(bars)"
   ]
  },
  {
   "cell_type": "code",
   "execution_count": null,
   "id": "e08d6d1c",
   "metadata": {},
   "outputs": [],
   "source": [
    "plt.figure(figsize=(10,10))\n",
    "plt.ylim([0, 100])\n",
    "width = 0.15\n",
    "indexes = np.arange(3)\n",
    "plt.bar(indexes, percentuali_scuolabus, 0.12, color='cornflowerblue', label='Scuolabus')\n",
    "plt.bar(indexes + width, percentuali_urbano, 0.12, color='lightpink', label='Trasporto Urbano')\n",
    "plt.bar(indexes + width*2, percentuali_interurbano, 0.12, color='coral', label='Trasporto Interurbano')\n",
    "plt.bar(indexes + width*3, percentuali_ferroviario, 0.12, color='gold', label='Trasporto Ferroviario')\n",
    "\n",
    "plt.ylabel(\"percentuale di mezzi con fermata nei pressi\", fontsize=10)\n",
    "plt.xticks(indexes + width*1.5, tipi_scuole_labels, fontsize = 15)\n",
    "plt.legend()\n",
    "plt.grid(linewidth=0.5, axis='y')"
   ]
  },
  {
   "cell_type": "code",
   "execution_count": null,
   "id": "86d5d7d2",
   "metadata": {},
   "outputs": [],
   "source": []
  }
 ],
 "metadata": {
  "kernelspec": {
   "display_name": "Python 3 (ipykernel)",
   "language": "python",
   "name": "python3"
  },
  "language_info": {
   "codemirror_mode": {
    "name": "ipython",
    "version": 3
   },
   "file_extension": ".py",
   "mimetype": "text/x-python",
   "name": "python",
   "nbconvert_exporter": "python",
   "pygments_lexer": "ipython3",
   "version": "3.9.13"
  }
 },
 "nbformat": 4,
 "nbformat_minor": 5
}
